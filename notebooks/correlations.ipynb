{
 "cells": [
  {
   "cell_type": "markdown",
   "metadata": {},
   "source": [
    "# Correlations Plot"
   ]
  },
  {
   "cell_type": "code",
   "execution_count": null,
   "metadata": {
    "collapsed": false,
    "inputHidden": false,
    "jupyter": {
     "outputs_hidden": false
    },
    "outputHidden": false
   },
   "outputs": [],
   "source": [
    "\"\"\"\n",
    "    TITLE   : Correlations Plot\n",
    "    PROJECT : discO\n",
    "\"\"\"\n",
    "\n",
    "__author__ = \"Nathaniel Starkman\"\n",
    "__version__ = \"\""
   ]
  },
  {
   "cell_type": "markdown",
   "metadata": {},
   "source": [
    "<br><br>\n",
    "\n",
    "- - - \n",
    "\n",
    "## Prepare\n"
   ]
  },
  {
   "cell_type": "markdown",
   "metadata": {
    "inputHidden": false,
    "outputHidden": false
   },
   "source": [
    "### Imports"
   ]
  },
  {
   "cell_type": "code",
   "execution_count": 2,
   "metadata": {},
   "outputs": [],
   "source": [
    "# THIRD PARTY\n",
    "import astropy.coordinates as coord\n",
    "import astropy.units as u\n",
    "from astropy.visualization import quantity_support\n",
    "from galpy import df as gdf\n",
    "from galpy import potential as gpot\n",
    "import numpy as np\n",
    "from IPython.display import display\n",
    "import scipy.stats\n",
    "import matplotlib.pyplot as plt\n",
    "from IPython.display import display\n",
    "import corner\n",
    "\n",
    "# PROJECT-SPECIFIC\n",
    "from discO import (\n",
    "    PotentialWrapper,\n",
    "    PotentialSampler,\n",
    "    MeasurementErrorSampler,\n",
    "    PotentialFitter,\n",
    "    ResidualMethod,\n",
    "    Pipeline\n",
    ")\n",
    "from discO.utils import UnFrame"
   ]
  },
  {
   "cell_type": "code",
   "execution_count": 3,
   "metadata": {},
   "outputs": [],
   "source": [
    "quantity_support();"
   ]
  },
  {
   "cell_type": "markdown",
   "metadata": {
    "inputHidden": false,
    "outputHidden": false
   },
   "source": [
    "### Parameters"
   ]
  },
  {
   "cell_type": "code",
   "execution_count": 4,
   "metadata": {},
   "outputs": [],
   "source": [
    "mass = 1e12 * u.solMass\n",
    "r0 = 16 * u.kpc  # scale factor"
   ]
  },
  {
   "cell_type": "code",
   "execution_count": 5,
   "metadata": {},
   "outputs": [],
   "source": [
    "# pot = gpot.MWPotential2014[-1]\n",
    "# pot = gpot.NFWPotential(amp=mass, a=r0)\n",
    "pot = gpot.HernquistPotential(amp=2*mass, a=r0)\n",
    "pot.turn_physical_on()"
   ]
  },
  {
   "cell_type": "code",
   "execution_count": 6,
   "metadata": {},
   "outputs": [],
   "source": [
    "frame = coord.Galactocentric()"
   ]
  },
  {
   "cell_type": "markdown",
   "metadata": {},
   "source": [
    "<br><br>\n",
    "\n",
    "- - - \n",
    "\n",
    "## Potential Wrapper"
   ]
  },
  {
   "cell_type": "code",
   "execution_count": 7,
   "metadata": {},
   "outputs": [
    {
     "data": {
      "text/plain": [
       "GalpyPotentialWrapper: at <0x7f9988ae8940>\n",
       "    potential : galpy.potential.TwoPowerSphericalPotential.HernquistPotential object at 0x7f9988ae8040\n",
       "    frame     : Galactocentric Frame (galcen_coord=<ICRS Coordinate: (ra, dec) in deg\n",
       "        (266.4051, -28.936175)>, galcen_distance=8.122 kpc, galcen_v_sun=(12.9, 245.6, 7.78) km / s, z_sun=20.8 pc, roll=0.0 deg)"
      ]
     },
     "execution_count": 7,
     "metadata": {},
     "output_type": "execute_result"
    }
   ],
   "source": [
    "wpot = PotentialWrapper(pot, frame=\"galactocentric\")\n",
    "wpot"
   ]
  },
  {
   "cell_type": "markdown",
   "metadata": {},
   "source": [
    "<br><br>\n",
    "\n",
    "- - - \n",
    "\n",
    "## Potential Sampler"
   ]
  },
  {
   "cell_type": "code",
   "execution_count": 8,
   "metadata": {},
   "outputs": [
    {
     "data": {
      "text/plain": [
       "<Galactocentric Frame (galcen_coord=<ICRS Coordinate: (ra, dec) in deg\n",
       "    (266.4051, -28.936175)>, galcen_distance=8.122 kpc, galcen_v_sun=(12.9, 245.6, 7.78) km / s, z_sun=20.8 pc, roll=0.0 deg)>"
      ]
     },
     "execution_count": 8,
     "metadata": {},
     "output_type": "execute_result"
    }
   ],
   "source": [
    "sampler = PotentialSampler(\n",
    "    wpot,\n",
    "    df=gdf.isotropicHernquistdf\n",
    ")\n",
    "sampler.frame"
   ]
  },
  {
   "cell_type": "code",
   "execution_count": 9,
   "metadata": {},
   "outputs": [
    {
     "name": "stderr",
     "output_type": "stream",
     "text": [
      "100%|██████████| 200/200 [00:00<00:00, 358.79it/s]\n"
     ]
    },
    {
     "data": {
      "text/plain": [
       "(1000, 200)"
      ]
     },
     "execution_count": 9,
     "metadata": {},
     "output_type": "execute_result"
    }
   ],
   "source": [
    "samples = sampler.run(n=int(1e3), iterations=200, batch=True)\n",
    "samples.shape"
   ]
  },
  {
   "cell_type": "markdown",
   "metadata": {},
   "source": [
    "<br><br>\n",
    "\n",
    "- - - \n",
    "\n",
    "## Measurement"
   ]
  },
  {
   "cell_type": "code",
   "execution_count": 10,
   "metadata": {},
   "outputs": [
    {
     "data": {
      "text/plain": [
       "<discO.core.measurement.GaussianMeasurementError at 0x7f9988b28f40>"
      ]
     },
     "execution_count": 10,
     "metadata": {},
     "output_type": "execute_result"
    }
   ],
   "source": [
    "measurer = MeasurementErrorSampler(\n",
    "    c_err=10 * u.percent, method=\"Gaussian\",\n",
    "    frame=\"icrs\",\n",
    "    representation_type=\"spherical\"\n",
    ")\n",
    "measurer"
   ]
  },
  {
   "cell_type": "code",
   "execution_count": 11,
   "metadata": {},
   "outputs": [
    {
     "name": "stderr",
     "output_type": "stream",
     "text": [
      "100%|██████████| 200/200 [00:01<00:00, 126.49it/s]\n"
     ]
    }
   ],
   "source": [
    "for resamp in measurer.run(samples, progress=True):\n",
    "    pass"
   ]
  },
  {
   "cell_type": "markdown",
   "metadata": {},
   "source": [
    "<br><br>\n",
    "\n",
    "- - - \n",
    "\n",
    "## Potential Fitter"
   ]
  },
  {
   "cell_type": "code",
   "execution_count": 12,
   "metadata": {},
   "outputs": [
    {
     "data": {
      "text/plain": [
       "<discO.plugin.galpy.fitter.GalpySCFPotentialFitter object at 0x7f9988b31220>\n",
       "\tframe: <Galactocentric Frame (galcen_coord=<ICRS Coordinate: (ra, dec) in deg\n",
       "    (266.4051, -28.936175)>, galcen_distance=8.122 kpc, galcen_v_sun=(12.9, 245.6, 7.78) km / s, z_sun=20.8 pc, roll=0.0 deg)>\n",
       "\tdefaults: {'Nmax': 3, 'Lmax': 3, 'scale_factor': <Quantity 16. kpc>}"
      ]
     },
     "execution_count": 12,
     "metadata": {},
     "output_type": "execute_result"
    }
   ],
   "source": [
    "fitter = PotentialFitter(\n",
    "    key=\"galpy\", potential_cls=\"scf\",\n",
    "    frame=sampler.frame,\n",
    "    Nmax=3, Lmax=3, scale_factor=r0\n",
    ")\n",
    "fitter"
   ]
  },
  {
   "cell_type": "code",
   "execution_count": 13,
   "metadata": {},
   "outputs": [
    {
     "name": "stderr",
     "output_type": "stream",
     "text": [
      "100%|██████████| 200/200 [00:02<00:00, 72.61it/s]\n"
     ]
    }
   ],
   "source": [
    "fits = fitter.run(samples, Nmax=10, Lmax=10, scale_factor=r0, batch=True)"
   ]
  },
  {
   "cell_type": "code",
   "execution_count": 34,
   "metadata": {},
   "outputs": [
    {
     "name": "stderr",
     "output_type": "stream",
     "text": [
      "100%|██████████| 200/200 [00:03<00:00, 62.73it/s]\n"
     ]
    }
   ],
   "source": [
    "for fit in fitter.run(samples, Nmax=10, Lmax=10, scale_factor=r0):\n",
    "    pass"
   ]
  },
  {
   "cell_type": "code",
   "execution_count": 14,
   "metadata": {},
   "outputs": [
    {
     "data": {
      "text/plain": [
       "GalpyPotentialWrapper: at <0x7f9988ae83d0>\n",
       "    potential : galpy.potential.SCFPotential.SCFPotential object at 0x7f9988ae8160\n",
       "    frame     : Galactocentric Frame (galcen_coord=<ICRS Coordinate: (ra, dec) in deg\n",
       "        (266.4051, -28.936175)>, galcen_distance=8.122 kpc, galcen_v_sun=(12.9, 245.6, 7.78) km / s, z_sun=20.8 pc, roll=0.0 deg)"
      ]
     },
     "execution_count": 14,
     "metadata": {},
     "output_type": "execute_result"
    }
   ],
   "source": [
    "fits[0]"
   ]
  },
  {
   "cell_type": "markdown",
   "metadata": {},
   "source": [
    "<br><br>\n",
    "\n",
    "- - - \n",
    "\n",
    "## Residual"
   ]
  },
  {
   "cell_type": "code",
   "execution_count": 15,
   "metadata": {},
   "outputs": [],
   "source": [
    "_r = np.linspace(0.1, 10, num=50)\n",
    "_lon = np.linspace(0, 360, num=10)\n",
    "_lat = np.linspace(-90, 90, num=10)\n",
    "r, lon, lat = np.meshgrid(_r, _lon, _lat)\n",
    "grid = coord.Galactocentric(\n",
    "    coord.SphericalRepresentation(lon * u.deg, lat * u.deg, r * u.kpc)\n",
    ")"
   ]
  },
  {
   "cell_type": "code",
   "execution_count": 16,
   "metadata": {},
   "outputs": [],
   "source": [
    "residualer = ResidualMethod(\n",
    "    grid,\n",
    "    method=\"grid\",\n",
    "    original_potential=wpot,\n",
    "    observable=\"acceleration\",\n",
    "    representation_type=\"cartesian\"\n",
    ")"
   ]
  },
  {
   "cell_type": "code",
   "execution_count": 30,
   "metadata": {},
   "outputs": [
    {
     "name": "stdout",
     "output_type": "stream",
     "text": [
      "/Users/nathanielstarkman/miniconda3/envs/dev/lib/python3.8/site-packages/numpy/core/fromnumeric.py:90: RuntimeWarning: invalid value encountered in reduce\n",
      "  return ufunc.reduce(obj, axis, dtype, out, **passkwargs)\n",
      "\n"
     ]
    },
    {
     "data": {
      "text/plain": [
       "<CartesianVectorField (x, y, z) in kpc | (vf_x, vf_y, vf_z) in km / s2\n",
       "    [((6.12323400e-18, 0., -0.1       ), (           nan,             nan,             nan)),\n",
       "     ((3.42020143e-02, 0., -0.09396926), (3.44900643e-13, -1.13348518e-13,  5.06768420e-13)),\n",
       "     ((6.42787610e-02, 0., -0.07660444), (3.48034513e-13, -1.46441766e-13,  5.21838085e-13)),\n",
       "     ...,\n",
       "     ((6.42787610e+00, 0.,  7.66044443), (5.36561402e-14, -1.71906784e-14, -3.42988336e-14)),\n",
       "     ((3.42020143e+00, 0.,  9.39692621), (4.44588587e-14, -1.07417254e-14,  3.70116599e-15)),\n",
       "     ((6.12323400e-16, 0., 10.        ), (           nan,             nan,             nan))]>"
      ]
     },
     "execution_count": 30,
     "metadata": {},
     "output_type": "execute_result"
    }
   ],
   "source": [
    "residualer(fits[0])"
   ]
  },
  {
   "cell_type": "markdown",
   "metadata": {},
   "source": [
    "<br><br>\n",
    "\n",
    "- - - \n",
    "\n",
    "## Pipeline"
   ]
  },
  {
   "cell_type": "code",
   "execution_count": 19,
   "metadata": {},
   "outputs": [
    {
     "data": {
      "text/plain": [
       "Pipeline:\n",
       "    sampler: <discO.plugin.galpy.sample.GalpyPotentialSampler object at 0x7f9984f7a130>\n",
       "    measurer: <discO.core.measurement.GaussianMeasurementError object at 0x7f9988b28f40>\n",
       "    fitter: <discO.plugin.galpy.fitter.GalpySCFPotentialFitter object at 0x7f9988b31220>\n",
       "\tframe: <Galactocentric Frame (galcen_coord=<ICRS Coordinate: (ra, dec) in deg\n",
       "    (266.4051, -28.936175)>, galcen_distance=8.122 kpc, galcen_v_sun=(12.9, 245.6, 7.78) km / s, z_sun=20.8 pc, roll=0.0 deg)>\n",
       "\tdefaults: {'Nmax': 3, 'Lmax': 3, 'scale_factor': <Quantity 16. kpc>}\n",
       "    residual: None\n",
       "    statistic: None"
      ]
     },
     "execution_count": 19,
     "metadata": {},
     "output_type": "execute_result"
    }
   ],
   "source": [
    "pipe = Pipeline(\n",
    "    sampler=sampler,\n",
    "    measurer=measurer,\n",
    "    fitter=fitter,\n",
    ")\n",
    "pipe"
   ]
  },
  {
   "cell_type": "code",
   "execution_count": 20,
   "metadata": {},
   "outputs": [
    {
     "name": "stderr",
     "output_type": "stream",
     "text": [
      "100%|██████████| 10000/10000 [06:51<00:00, 24.33it/s]  "
     ]
    },
    {
     "name": "stdout",
     "output_type": "stream",
     "text": [
      "done\n"
     ]
    },
    {
     "name": "stderr",
     "output_type": "stream",
     "text": [
      "\n"
     ]
    }
   ],
   "source": [
    "coeff_array1 = []\n",
    "coeff_array2 = []\n",
    "\n",
    "numphis = 27  # (N=3 x (L=3)^2)\n",
    "idx = [\n",
    "    i for i in np.arange(numphis)\n",
    "    if i not in [1, 2, 5, 10, 11, 14, 19, 20, 23]\n",
    "]\n",
    "\n",
    "plot_options=dict(\n",
    "    labels=[r\"$\\phi_{\" + str(i) + r\"}$\" for i in idx],\n",
    "    show_titles=True,\n",
    "    quantiles=[0.16, 0.5, 0.84],\n",
    "    title_kwargs={\"fontsize\": 12},\n",
    "    title_fmt='.2e',\n",
    "    label_kwargs={\"fontsize\":12},\n",
    "    hist2d_kwargs={\"fontsize\":8},\n",
    "    quiet=True\n",
    ")\n",
    "\n",
    "# Run for 10k samples, for 10k iterations\n",
    "N = int(1e4)\n",
    "iterations = int(1e4)\n",
    "random=0\n",
    "stride = 5000\n",
    "\n",
    "for i, result1 in enumerate(pipe.run(N, iterations, random=random, c_err=False)):\n",
    "    # the no-observer coefficients\n",
    "    coeff_array1.append(result1.fit.coefficients()[\"Acos\"].flatten())\n",
    "\n",
    "    result2 = pipe(result1.sample, random=random)\n",
    "    coeff_array2.append(result2.fit.coefficients()[\"Acos\"].flatten())\n",
    "\n",
    "    if (i + 1) % stride == 0 and (i + 1) > numphis:\n",
    "\n",
    "        # horribly inefficient saving\n",
    "        np.save(\"figures/atcenter\", coeff_array1)\n",
    "        np.save(\"figures/atobserver\", coeff_array2)\n",
    "\n",
    "        # plot\n",
    "        plt.close(\"all\")\n",
    "        fig = corner.corner(np.array(coeff_array1)[:, idx], **plot_options)\n",
    "        fig.suptitle(\"At Center\", y=1.00)\n",
    "        fig.savefig(f\"figures/plot_{i+1}_atcenter.png\")\n",
    "        plt.close(fig)\n",
    "\n",
    "        fig = corner.corner(np.array(coeff_array2)[:, idx], **plot_options)\n",
    "        fig.suptitle(\"atobserver\", y=1.00)\n",
    "        fig.savefig(f\"figures/plot_{i+1}_atobserver.png\")\n",
    "        plt.close(fig)\n",
    "        \n",
    "        fig = corner.corner(np.array(coeff_array1)[:, idx], **plot_options)\n",
    "        fig = corner.corner(np.array(coeff_array2)[:, idx], fig=fig, reverse=True)\n",
    "        fig.suptitle(\"without observer (bottom), with (top)\", y=1.00)\n",
    "        fig.savefig(f\"figures/plot_{i+1}.png\")\n",
    "        plt.close(fig)\n",
    "        \n",
    "print(\"done\")"
   ]
  },
  {
   "cell_type": "code",
   "execution_count": null,
   "metadata": {},
   "outputs": [],
   "source": []
  },
  {
   "cell_type": "code",
   "execution_count": null,
   "metadata": {},
   "outputs": [],
   "source": []
  },
  {
   "cell_type": "code",
   "execution_count": null,
   "metadata": {},
   "outputs": [],
   "source": []
  },
  {
   "cell_type": "code",
   "execution_count": 40,
   "metadata": {},
   "outputs": [],
   "source": [
    "def make_icrs_radial_error(r0, eps_l: float, upper: float, scaling=1):\n",
    "    \n",
    "    if eps_l <= 0 or 1 < eps_l:\n",
    "        raise ValueError\n",
    "        \n",
    "    if upper <= 0 or 1 < upper:\n",
    "        raise ValueError\n",
    "\n",
    "    def icrs_radial_error(c):\n",
    "        \"\"\"Linearly-scaled errors in a ICRS frame.\n",
    "\n",
    "        Transforms the samples to ICRS, assigns a distance-dependent error in the radial coordinate\n",
    "\n",
    "        [(1 - eps_u) (d / r0) + eps_l] / (1 + d / r0)\n",
    "\n",
    "        Parameters\n",
    "        ----------\n",
    "        c : SkyCoord\n",
    "            in Galactocentric coordinates\n",
    "\n",
    "        \"\"\"\n",
    "        cc = c.transform_to(coord.ICRS())\n",
    "        \n",
    "        d = cc.distance\n",
    "\n",
    "        # reshape \"c\" to Nx3 array\n",
    "        nd = cc.shape[0]  # the number of samples\n",
    "        vals = np.abs(cc.data._values.view(dtype=np.float64).reshape(nd, -1))\n",
    "\n",
    "        # get scaled error\n",
    "        d_pos = vals\n",
    "        d_pos[:, 0] = 0 * u.deg\n",
    "        d_pos[:, 1] = 0 * u.deg\n",
    "        d_pos[:, 2] = scaling * (upper * (d / r0) + eps_l) / (1 + d / r0) * d.to_value()\n",
    "        return d_pos\n",
    "\n",
    "    return icrs_radial_error\n",
    "\n",
    "# /def"
   ]
  },
  {
   "cell_type": "code",
   "execution_count": 41,
   "metadata": {},
   "outputs": [
    {
     "data": {
      "text/plain": [
       "Pipeline:\n",
       "    sampler: <discO.plugin.galpy.sample.GalpyPotentialSampler object at 0x7f9984f7a130>\n",
       "    measurer: <discO.core.measurement.GaussianMeasurementError object at 0x7f9988b28f40>\n",
       "    fitter: <discO.plugin.galpy.fitter.GalpySCFPotentialFitter object at 0x7f9988b31220>\n",
       "\tframe: <Galactocentric Frame (galcen_coord=<ICRS Coordinate: (ra, dec) in deg\n",
       "    (266.4051, -28.936175)>, galcen_distance=8.122 kpc, galcen_v_sun=(12.9, 245.6, 7.78) km / s, z_sun=20.8 pc, roll=0.0 deg)>\n",
       "\tdefaults: {'Nmax': 3, 'Lmax': 3, 'scale_factor': <Quantity 16. kpc>}\n",
       "    residual: None\n",
       "    statistic: None"
      ]
     },
     "execution_count": 41,
     "metadata": {},
     "output_type": "execute_result"
    }
   ],
   "source": [
    "measurer2 = MeasurementErrorSampler(\n",
    "    c_err=make_icrs_radial_error(r0, eps_l=0.01, upper=0.5),\n",
    "    method=\"Gaussian\",\n",
    "    frame=\"icrs\",\n",
    "    representation_type=\"spherical\"\n",
    ")\n",
    "measurer\n",
    "\n",
    "pipe2 = Pipeline(\n",
    "    sampler=sampler,\n",
    "    measurer=measurer2,\n",
    "    fitter=fitter,\n",
    ")\n",
    "pipe"
   ]
  },
  {
   "cell_type": "code",
   "execution_count": 42,
   "metadata": {},
   "outputs": [
    {
     "name": "stderr",
     "output_type": "stream",
     "text": [
      "100%|██████████| 10000/10000 [08:32<00:00, 19.50it/s]  "
     ]
    },
    {
     "name": "stdout",
     "output_type": "stream",
     "text": [
      "done\n"
     ]
    },
    {
     "name": "stderr",
     "output_type": "stream",
     "text": [
      "\n"
     ]
    }
   ],
   "source": [
    "coeff_array1 = []\n",
    "coeff_array2 = []\n",
    "\n",
    "numphis = 27  # (N=3 x (L=3)^2)\n",
    "idx = [\n",
    "    i for i in np.arange(numphis)\n",
    "    if i not in [1, 2, 5, 10, 11, 14, 19, 20, 23]\n",
    "]\n",
    "\n",
    "plot_options=dict(\n",
    "    labels=[r\"$\\phi_{\" + str(i) + r\"}$\" for i in idx],\n",
    "    show_titles=True,\n",
    "    quantiles=[0.16, 0.5, 0.84],\n",
    "    title_kwargs={\"fontsize\": 12},\n",
    "    title_fmt='.2e',\n",
    "    label_kwargs={\"fontsize\":12},\n",
    "    hist2d_kwargs={\"fontsize\":8},\n",
    "    quiet=True\n",
    ")\n",
    "\n",
    "# Run for 10k samples, for 10k iterations\n",
    "N = int(1e4)\n",
    "iterations = int(1e4)\n",
    "random=0\n",
    "stride = 5000\n",
    "\n",
    "for i, result1 in enumerate(pipe2.run(N, iterations, random=random, c_err=False)):\n",
    "    # the no-observer coefficients\n",
    "    coeff_array1.append(result1.fit.coefficients()[\"Acos\"].flatten())\n",
    "\n",
    "    result2 = pipe2(result1.sample, random=random)\n",
    "    coeff_array2.append(result2.fit.coefficients()[\"Acos\"].flatten())\n",
    "\n",
    "    if (i + 1) % stride == 0 and (i + 1) > numphis:\n",
    "\n",
    "        # horribly inefficient saving\n",
    "        np.save(\"figures/atcenter2\", coeff_array1)\n",
    "        np.save(\"figures/atobserver2\", coeff_array2)\n",
    "\n",
    "        # plot\n",
    "        plt.close(\"all\")\n",
    "        fig = corner.corner(np.array(coeff_array1)[:, idx], **plot_options)\n",
    "        fig.suptitle(\"At Center\", y=1.00)\n",
    "        fig.savefig(f\"figures/plot_{i+1}_atcenter2.png\")\n",
    "        plt.close(fig)\n",
    "\n",
    "        fig = corner.corner(np.array(coeff_array2)[:, idx], **plot_options)\n",
    "        fig.suptitle(\"atobserver\", y=1.00)\n",
    "        fig.savefig(f\"figures/plot_{i+1}_atobserver2.png\")\n",
    "        plt.close(fig)\n",
    "\n",
    "        fig = corner.corner(np.array(coeff_array1)[:, idx], **plot_options)\n",
    "        fig = corner.corner(np.array(coeff_array2)[:, idx], fig=fig, reverse=True)\n",
    "        fig.suptitle(\"without observer (bottom), with (top)\", y=1.00)\n",
    "        fig.savefig(f\"figures/plot2_{i+1}.png\")\n",
    "        plt.close(fig)\n",
    "        \n",
    "print(\"done\")"
   ]
  },
  {
   "cell_type": "code",
   "execution_count": null,
   "metadata": {},
   "outputs": [],
   "source": []
  }
 ],
 "metadata": {
  "kernel_info": {
   "name": "utilipy"
  },
  "kernelspec": {
   "display_name": "dev",
   "language": "python",
   "name": "dev"
  },
  "language_info": {
   "codemirror_mode": {
    "name": "ipython",
    "version": 3
   },
   "file_extension": ".py",
   "mimetype": "text/x-python",
   "name": "python",
   "nbconvert_exporter": "python",
   "pygments_lexer": "ipython3",
   "version": "3.8.2"
  },
  "nteract": {
   "version": "0.25.1"
  }
 },
 "nbformat": 4,
 "nbformat_minor": 4
}
