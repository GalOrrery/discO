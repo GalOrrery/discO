{
  "cells": [
    {
      "cell_type": "code",
      "source": [
        "# BUILT-IN\n",
        "import itertools\n",
        "import inspect\n",
        "\n",
        "# THIRD PARTY\n",
        "import numpy as np\n",
        "\n",
        "import astropy.coordinates as coord\n",
        "import astropy.units as u\n",
        "from astropy.visualization import quantity_support\n",
        "\n",
        "from galpy import potential as gpot\n",
        "from galpy import df as gdf\n",
        "import agama\n",
        "\n",
        "# PROJECT-SPECIFIC\n",
        "from discO import conf\n",
        "from discO import PotentialSampler, GaussianMeasurementErrorSampler\n",
        "from discO.extern.galpy import GalpyPotentialSampler\n",
        "from discO.extern.agama import AGAMAPotentialSampler"
      ],
      "outputs": [],
      "execution_count": 19,
      "metadata": {
        "execution": {
          "iopub.status.busy": "2021-01-08T20:58:46.334Z",
          "iopub.execute_input": "2021-01-08T20:58:46.341Z",
          "iopub.status.idle": "2021-01-08T20:58:46.354Z",
          "shell.execute_reply": "2021-01-08T20:58:46.360Z"
        }
      }
    },
    {
      "cell_type": "code",
      "source": [
        "mass = 1e12 * u.solMass\n",
        "r0 = 10 * u.kpc  # scale factor\n",
        "\n",
        "hernquist_pot = gpot.HernquistPotential(amp=mass, a=r0)"
      ],
      "outputs": [],
      "execution_count": 30,
      "metadata": {
        "execution": {
          "iopub.status.busy": "2021-01-08T21:03:17.835Z",
          "iopub.execute_input": "2021-01-08T21:03:17.845Z",
          "iopub.status.idle": "2021-01-08T21:03:17.860Z",
          "shell.execute_reply": "2021-01-08T21:03:17.867Z"
        }
      }
    },
    {
      "cell_type": "code",
      "source": [
        "sampler = PotentialSampler(gdf.isotropicHernquistdf(hernquist_pot))\n",
        "sampler.sample(n=10)"
      ],
      "outputs": [
        {
          "output_type": "execute_result",
          "execution_count": 31,
          "data": {
            "text/plain": "<SkyCoord (ICRS): (ra, dec, distance) in (deg, deg, kpc)\n    [(253.24693467, -41.8191513 ,  7.39601457),\n     (215.88405477, -68.22219074,  8.00845735),\n     (277.93861978, -59.82889896, 20.61803263),\n     (267.51748439, -31.12056059, 13.64288136),\n     (133.99452629, -16.09504559, 29.06827439),\n     (264.79562759,   2.68907347, 10.10300355),\n     ( 29.18125   , -17.21355666, 15.0151554 ),\n     (265.30192877, -27.3803629 ,  6.32960027),\n     (357.60104215, -40.40418963, 32.24334691),\n     ( 97.40565452,  11.36159817, 32.82235197)]\n (pm_ra_cosdec, pm_dec, radial_velocity) in (mas / yr, mas / yr, km / s)\n    [(-6.41668499,  -7.39652068,   44.95655166),\n     (-2.10195959,   2.97086204,  129.44854835),\n     (-0.80368669,  -3.81153019,  -40.6660504 ),\n     (-3.41616793,  -2.29332676,  -91.25903066),\n     (-0.69631571,  -0.83711388,  186.92602161),\n     (-4.88472731,  -2.27773877, -226.80431728),\n     ( 2.53663036,  -5.19809023,   59.74037019),\n     (-3.30849484, -10.48208454,  159.08050699),\n     ( 1.3849262 ,  -1.33960045,  -62.24426331),\n     ( 0.66280223,   0.13368409,  125.17290826)]>"
          },
          "metadata": {}
        }
      ],
      "execution_count": 31,
      "metadata": {
        "execution": {
          "iopub.status.busy": "2021-01-08T21:03:17.983Z",
          "iopub.execute_input": "2021-01-08T21:03:17.992Z",
          "iopub.status.idle": "2021-01-08T21:03:18.009Z",
          "shell.execute_reply": "2021-01-08T21:03:18.035Z"
        }
      }
    },
    {
      "cell_type": "code",
      "source": [
        "array = sampler.resample(niter=20, n=3)\n",
        "\n",
        "array[0, 1]"
      ],
      "outputs": [
        {
          "output_type": "execute_result",
          "execution_count": 32,
          "data": {
            "text/plain": "<SkyCoord (ICRS): (ra, dec, distance) in (deg, deg, kpc)\n    [(253.32843542, -38.64375696, 70.9631958 ),\n     (278.24396417,  29.24388061,  5.64393122),\n     (344.2517297 , -49.68718139, 44.69146923)]\n (pm_ra_cosdec, pm_dec, radial_velocity) in (mas / yr, mas / yr, km / s)\n    [(-0.41850885, -0.34364907,   14.18413179),\n     ( 5.04910284, -1.72523734, -175.77680393),\n     ( 0.89364931, -0.75713715,    3.38484785)]>"
          },
          "metadata": {}
        }
      ],
      "execution_count": 32,
      "metadata": {
        "execution": {
          "iopub.status.busy": "2021-01-08T21:03:19.247Z",
          "iopub.execute_input": "2021-01-08T21:03:19.255Z",
          "iopub.status.idle": "2021-01-08T21:03:19.540Z",
          "shell.execute_reply": "2021-01-08T21:03:19.554Z"
        }
      }
    },
    {
      "cell_type": "code",
      "source": [
        "sampler._instance"
      ],
      "outputs": [
        {
          "output_type": "execute_result",
          "execution_count": 33,
          "data": {
            "text/plain": "<discO.extern.galpy.sample.GalpyPotentialSampler at 0x7fbd948d0700>"
          },
          "metadata": {}
        }
      ],
      "execution_count": 33,
      "metadata": {
        "collapsed": true,
        "jupyter": {
          "source_hidden": false,
          "outputs_hidden": false
        },
        "nteract": {
          "transient": {
            "deleting": false
          }
        },
        "execution": {
          "iopub.status.busy": "2021-01-08T21:03:26.788Z",
          "iopub.execute_input": "2021-01-08T21:03:26.793Z",
          "iopub.status.idle": "2021-01-08T21:03:26.808Z",
          "shell.execute_reply": "2021-01-08T21:03:26.815Z"
        }
      }
    },
    {
      "cell_type": "markdown",
      "source": [
        "AGAMA"
      ],
      "metadata": {}
    },
    {
      "cell_type": "code",
      "source": [
        "pot_Hern = agama.Potential(type='Spheroid', mass=1e12, scaleRadius=10, gamma=1, alpha =1, beta=4, cutoffStrength=0)"
      ],
      "outputs": [],
      "execution_count": 27,
      "metadata": {
        "execution": {
          "iopub.status.busy": "2021-01-08T21:02:27.501Z",
          "iopub.execute_input": "2021-01-08T21:02:27.507Z",
          "iopub.status.idle": "2021-01-08T21:02:27.518Z",
          "shell.execute_reply": "2021-01-08T21:02:27.525Z"
        }
      }
    },
    {
      "cell_type": "code",
      "source": [
        "sampler = PotentialSampler(\n",
        "    agama.Potential(type='Spheroid', mass=1e12, scaleRadius=10, gamma=1, alpha =1, beta=4, cutoffStrength=0),\n",
        ")\n",
        "\n",
        "sampler"
      ],
      "outputs": [
        {
          "output_type": "execute_result",
          "execution_count": 36,
          "data": {
            "text/plain": "<discO.core.sample.PotentialSampler at 0x7fbd946ea730>"
          },
          "metadata": {}
        }
      ],
      "execution_count": 36,
      "metadata": {
        "execution": {
          "iopub.status.busy": "2021-01-08T21:03:45.818Z",
          "iopub.execute_input": "2021-01-08T21:03:45.827Z",
          "iopub.status.idle": "2021-01-08T21:03:45.840Z",
          "shell.execute_reply": "2021-01-08T21:03:45.845Z"
        }
      }
    },
    {
      "cell_type": "code",
      "source": [
        "samples = sampler.sample(n=10)\n",
        "samples"
      ],
      "outputs": [
        {
          "output_type": "execute_result",
          "execution_count": 37,
          "data": {
            "text/plain": "<SkyCoord (ICRS): (ra, dec, distance) in (deg, deg, kpc)\n    [(214.46359204,  46.31018846,   7.75971433),\n     (203.44129085,  72.46682219,   1.958076  ),\n     (228.88249676, -58.99884576,   4.73988409),\n     (112.68609327, -53.87903217,  19.2007379 ),\n     ( 35.52853245,  -7.63588012,  11.72565254),\n     (114.5947318 ,  75.93097341,  99.55560549),\n     (240.5978794 ,   6.54805444, 823.63128559),\n     ( 98.7684863 ,  30.60378122,  20.77447887),\n     (223.97787116, -72.92522127,   1.55342859),\n     (305.10078681, -60.88181598,  43.09081437)]>"
          },
          "metadata": {}
        }
      ],
      "execution_count": 37,
      "metadata": {
        "execution": {
          "iopub.status.busy": "2021-01-08T21:03:47.871Z",
          "iopub.execute_input": "2021-01-08T21:03:47.879Z",
          "iopub.status.idle": "2021-01-08T21:03:47.893Z",
          "shell.execute_reply": "2021-01-08T21:03:47.899Z"
        }
      }
    },
    {
      "cell_type": "code",
      "source": [
        "samples.potential"
      ],
      "outputs": [
        {
          "output_type": "execute_result",
          "execution_count": 38,
          "data": {
            "text/plain": "<agama.Potential at 0x7fbd94b40570>"
          },
          "metadata": {}
        }
      ],
      "execution_count": 38,
      "metadata": {
        "execution": {
          "iopub.status.busy": "2021-01-08T21:04:03.482Z",
          "iopub.execute_input": "2021-01-08T21:04:03.490Z",
          "iopub.status.idle": "2021-01-08T21:04:03.511Z",
          "shell.execute_reply": "2021-01-08T21:04:03.523Z"
        }
      }
    },
    {
      "cell_type": "code",
      "source": [
        "array = sampler.resample(niter=20, n=3)\n",
        "\n",
        "array"
      ],
      "outputs": [
        {
          "output_type": "execute_result",
          "execution_count": 41,
          "data": {
            "text/plain": "array([[<SkyCoord (ICRS): (ra, dec, distance) in (deg, deg, kpc)\n    [( 85.82871899,  29.43431962, 80.19898726),\n     (322.82202395,  -2.02430613, 57.42167078),\n     (316.90798595, -51.2351452 , 10.75122914)]>,\n        <SkyCoord (ICRS): (ra, dec, distance) in (deg, deg, kpc)\n    [(112.16397588, -15.62163995, 198.73845272),\n     (215.35836886,  58.21797693,  50.79114918),\n     (349.31128296,  15.89803886,  14.10723674)]>,\n        <SkyCoord (ICRS): (ra, dec, distance) in (deg, deg, kpc)\n    [( 33.25883985,  56.52342483, 22.08826193),\n     (270.36090699, -37.91184112, 96.31478025),\n     (350.21451467, -27.43959089, 20.37785779)]>,\n        <SkyCoord (ICRS): (ra, dec, distance) in (deg, deg, kpc)\n    [(135.38108794, -8.63218079, 75.5545025 ),\n     ( 44.15306276, 26.26362322, 16.39688817),\n     (188.38280938, 56.31265872, 11.20043373)]>,\n        <SkyCoord (ICRS): (ra, dec, distance) in (deg, deg, kpc)\n    [(  3.38475812,  -5.22624916, 10.82405519),\n     (179.63905266,  71.07575689, 58.14677198),\n     ( 94.54357656, -31.6385821 , 81.33041032)]>,\n        <SkyCoord (ICRS): (ra, dec, distance) in (deg, deg, kpc)\n    [(180.8032099 , -34.78578787,  9.75080669),\n     ( 74.1383785 , -47.78305347, 22.73330282),\n     (312.44490251,  41.19098512,  8.72590065)]>,\n        <SkyCoord (ICRS): (ra, dec, distance) in (deg, deg, kpc)\n    [(280.18006457, -10.27372123, 77.99541243),\n     (289.22746786,  74.35233182, 99.10577486),\n     ( 26.85905965, -43.09044783, 59.75802921)]>,\n        <SkyCoord (ICRS): (ra, dec, distance) in (deg, deg, kpc)\n    [( 80.10197622, -40.82248273,   28.88860157),\n     (204.82578614,  29.90383598, 1548.71614695),\n     ( 77.45332608,   8.79309654,    4.31674233)]>,\n        <SkyCoord (ICRS): (ra, dec, distance) in (deg, deg, kpc)\n    [(350.50517299,  49.00723983,  11.28554338),\n     (189.10926379, -30.84365907,  44.93183702),\n     (156.04503326, -65.19747155, 230.80053409)]>,\n        <SkyCoord (ICRS): (ra, dec, distance) in (deg, deg, kpc)\n    [(276.43078961,  57.10223228, 15.48125492),\n     ( 21.74583926,  83.35200763, 60.08741007),\n     (275.4572447 , -32.89321536, 77.53452948)]>,\n        <SkyCoord (ICRS): (ra, dec, distance) in (deg, deg, kpc)\n    [(347.57249085,  51.53423572, 33.03485643),\n     (203.12341689, -17.33468489,  3.32689727),\n     (297.99858576,   7.15440995, 21.32872803)]>,\n        <SkyCoord (ICRS): (ra, dec, distance) in (deg, deg, kpc)\n    [(358.71186322, -49.09003497, 21.91008996),\n     (252.62800414,  61.34798305,  8.87741186),\n     (194.74383845,  29.68882384, 23.80285846)]>,\n        <SkyCoord (ICRS): (ra, dec, distance) in (deg, deg, kpc)\n    [( 76.97487673,  11.50843934, 10.25568938),\n     (154.52208112, -46.24457058,  4.92629688),\n     (264.13343221, -16.13216553, 42.43846584)]>,\n        <SkyCoord (ICRS): (ra, dec, distance) in (deg, deg, kpc)\n    [( 27.86372279, 54.12642226, 3347.6649484 ),\n     (228.21102215, 51.02223743,   55.71363191),\n     (345.18600658, 40.2183977 ,   23.21161686)]>,\n        <SkyCoord (ICRS): (ra, dec, distance) in (deg, deg, kpc)\n    [( 16.23496907, -44.48353836, 19.23461329),\n     (301.64312556,  31.52628407,  4.3436666 ),\n     (225.06336387, -22.997477  ,  0.96773853)]>,\n        <SkyCoord (ICRS): (ra, dec, distance) in (deg, deg, kpc)\n    [(312.78913178,  32.51644391, 13.92566792),\n     ( 45.11994246, -21.2428166 ,  4.26393489),\n     (300.18833435,  11.86345665,  0.1623882 )]>,\n        <SkyCoord (ICRS): (ra, dec, distance) in (deg, deg, kpc)\n    [(  6.71319687, -67.33628142,  68.25198624),\n     (252.39864218,  36.2721253 ,  53.99854503),\n     ( 29.89431049,  41.1067974 , 115.94587817)]>,\n        <SkyCoord (ICRS): (ra, dec, distance) in (deg, deg, kpc)\n    [(256.96598051, -40.97767122, 50.08641822),\n     (  4.77403808, -33.59655377, 21.46473887),\n     (215.42115009, -24.93906861, 42.67245986)]>,\n        <SkyCoord (ICRS): (ra, dec, distance) in (deg, deg, kpc)\n    [( 67.89619285, -47.07102489,   2.07649317),\n     ( 93.36062773, -18.70380678, 769.47251959),\n     (114.03784455, -59.75572065,   2.56644079)]>,\n        <SkyCoord (ICRS): (ra, dec, distance) in (deg, deg, kpc)\n    [( 56.80746829,  1.04577755e-02, 21.44650697),\n     (342.21163746, -4.11668250e+01, 55.94965935),\n     (350.72074513, -5.21799920e+01, 18.32869277)]>]], dtype=object)"
          },
          "metadata": {}
        }
      ],
      "execution_count": 41,
      "metadata": {
        "execution": {
          "iopub.status.busy": "2021-01-08T21:04:10.416Z",
          "iopub.execute_input": "2021-01-08T21:04:10.421Z",
          "iopub.status.idle": "2021-01-08T21:04:10.511Z",
          "shell.execute_reply": "2021-01-08T21:04:10.528Z"
        }
      }
    },
    {
      "cell_type": "code",
      "source": [],
      "outputs": [],
      "execution_count": null,
      "metadata": {}
    },
    {
      "cell_type": "markdown",
      "source": [
        "---"
      ],
      "metadata": {}
    },
    {
      "cell_type": "markdown",
      "source": [
        "Now pipe with fitters"
      ],
      "metadata": {}
    },
    {
      "cell_type": "code",
      "source": [
        "sampler = PotentialSampler(gdf.isotropicHernquistdf(hernquist_pot))\n",
        "fitter = PotentialFitter(\"multipole\", package=\"agama\", return_specific_class=True)\n",
        "ms = GaussianMeasurementErrorSampler()\n",
        "\n",
        "pipe = sampler | ms | fitter\n",
        "\n",
        "fit_pot = pipe(n=10000)\n",
        "\n",
        "fit_pot"
      ],
      "outputs": [],
      "execution_count": null,
      "metadata": {}
    },
    {
      "cell_type": "code",
      "source": [
        "ms(sampler.sample(n=3), c_err=0.01)"
      ],
      "outputs": [],
      "execution_count": null,
      "metadata": {}
    },
    {
      "cell_type": "code",
      "source": [],
      "outputs": [],
      "execution_count": null,
      "metadata": {}
    }
  ],
  "metadata": {
    "kernelspec": {
      "display_name": "dev",
      "language": "python",
      "name": "dev"
    },
    "language_info": {
      "name": "python",
      "version": "3.8.2",
      "mimetype": "text/x-python",
      "codemirror_mode": {
        "name": "ipython",
        "version": 3
      },
      "pygments_lexer": "ipython3",
      "nbconvert_exporter": "python",
      "file_extension": ".py"
    },
    "nteract": {
      "version": "0.27.0"
    }
  },
  "nbformat": 4,
  "nbformat_minor": 4
}
