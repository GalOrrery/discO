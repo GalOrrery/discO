{
 "cells": [
  {
   "cell_type": "markdown",
   "metadata": {},
   "source": [
    "# Title"
   ]
  },
  {
   "cell_type": "code",
   "execution_count": 1,
   "metadata": {
    "collapsed": false,
    "inputHidden": false,
    "jupyter": {
     "outputs_hidden": false
    },
    "outputHidden": false
   },
   "outputs": [],
   "source": [
    "\"\"\"\n",
    "    TITLE   :\n",
    "    PROJECT :\n",
    "\"\"\"\n",
    "\n",
    "__author__ = \"\"\n",
    "__version__ = \"\""
   ]
  },
  {
   "cell_type": "markdown",
   "metadata": {},
   "source": [
    "<span style='font-size:30px;font-weight:650'>\n",
    "    About\n",
    "</span>\n",
    "\n",
    "information about this notebook\n"
   ]
  },
  {
   "cell_type": "markdown",
   "metadata": {},
   "source": [
    "<br><br>\n",
    "\n",
    "- - - \n",
    "\n",
    "## Prepare\n"
   ]
  },
  {
   "cell_type": "markdown",
   "metadata": {
    "inputHidden": false,
    "outputHidden": false
   },
   "source": [
    "### Imports"
   ]
  },
  {
   "cell_type": "code",
   "execution_count": 2,
   "metadata": {},
   "outputs": [],
   "source": [
    "# THIRD PARTY\n",
    "import agama\n",
    "import astropy.coordinates as coord\n",
    "import astropy.units as u\n",
    "import numpy as np\n",
    "from astropy.visualization import quantity_support\n",
    "from galpy import df as gdf\n",
    "from galpy import potential as gpot\n",
    "\n",
    "# LOCAL\n",
    "# PROJECT-SPECIFIC\n",
    "from discO import GaussianMeasurementErrorSampler, PotentialFitter, PotentialSampler, conf\n",
    "from discO.plugin.agama.fitter import AGAMAMultipolePotentialFitter, AGAMAPotentialFitter"
   ]
  },
  {
   "cell_type": "code",
   "execution_count": 3,
   "metadata": {},
   "outputs": [],
   "source": [
    "quantity_support();"
   ]
  },
  {
   "cell_type": "markdown",
   "metadata": {
    "inputHidden": false,
    "outputHidden": false
   },
   "source": [
    "### Parameters"
   ]
  },
  {
   "cell_type": "code",
   "execution_count": 4,
   "metadata": {},
   "outputs": [],
   "source": [
    "mass = 1e12 * u.solMass\n",
    "r0 = 10 * u.kpc  # scale factor"
   ]
  },
  {
   "cell_type": "markdown",
   "metadata": {},
   "source": [
    "<br><br>\n",
    "\n",
    "- - - \n",
    "\n",
    "## Code"
   ]
  },
  {
   "cell_type": "code",
   "execution_count": 5,
   "metadata": {},
   "outputs": [
    {
     "data": {
      "text/plain": [
       "{'agama': discO.plugin.agama.sample.AGAMAPotentialSampler,\n",
       " 'galpy': discO.plugin.galpy.sample.GalpyPotentialSampler}"
      ]
     },
     "execution_count": 5,
     "metadata": {},
     "output_type": "execute_result"
    }
   ],
   "source": [
    "PotentialSampler._registry"
   ]
  },
  {
   "cell_type": "code",
   "execution_count": 6,
   "metadata": {},
   "outputs": [
    {
     "data": {
      "text/plain": [
       "<discO.core.sample.PotentialSampler at 0x7f908322b940>"
      ]
     },
     "execution_count": 6,
     "metadata": {},
     "output_type": "execute_result"
    }
   ],
   "source": [
    "hernquist_pot = gpot.HernquistPotential(amp=mass, a=r0)\n",
    "sampler = PotentialSampler(hernquist_pot)\n",
    "sampler"
   ]
  },
  {
   "cell_type": "code",
   "execution_count": 7,
   "metadata": {},
   "outputs": [
    {
     "data": {
      "text/plain": [
       "<SkyCoord (Galactocentric: galcen_coord=<ICRS Coordinate: (ra, dec) in deg\n",
       "    (266.4051, -28.936175)>, galcen_distance=8.122 kpc, galcen_v_sun=(12.9, 245.6, 7.78) km / s, z_sun=20.8 pc, roll=0.0 deg): (x, y, z) in kpc\n",
       "    [(27.1172228 ,  -7.89208216,   3.56928375),\n",
       "     (30.0881722 ,  15.71499527, -42.94001442),\n",
       "     ( 7.78532477, -10.31150342, -32.19463138)]\n",
       " (v_x, v_y, v_z) in km / s\n",
       "    [( -23.43881734, -58.22560595, -125.31107118),\n",
       "     (-134.65499462, -70.40401722,   59.07991269),\n",
       "     (  66.70000353,  46.03324887, -142.03489184)]>"
      ]
     },
     "execution_count": 7,
     "metadata": {},
     "output_type": "execute_result"
    }
   ],
   "source": [
    "sampler.sample(n=3, frame=coord.Galactocentric(), random=0)"
   ]
  },
  {
   "cell_type": "code",
   "execution_count": 8,
   "metadata": {},
   "outputs": [
    {
     "data": {
      "text/plain": [
       "<SkyCoord (ICRS): (ra, dec, distance) in (deg, deg, kpc)\n",
       "    [[(228.47394763, -23.44529675,   8.7744884 ),\n",
       "      (139.71455856,  -6.33201948,  53.21459486)],\n",
       "     [(141.4330694 , -58.20557827, 159.73499923),\n",
       "      (257.48785022,  -8.48904108,  20.26954336)],\n",
       "     [(106.80608422, -10.38488126,  32.16264965),\n",
       "      (  9.15471126, -20.36140278,  28.59746488)]]\n",
       " (pm_ra_cosdec, pm_dec, radial_velocity) in (mas / yr, mas / yr, km / s)\n",
       "    [[(-3.11262307e+00, -5.0451043 ,  -98.6587091 ),\n",
       "      (-3.38050841e-01,  0.07845362,  267.57994542)],\n",
       "     [( 4.24479960e-04,  0.15739561,  269.0456028 ),\n",
       "      (-2.22841128e+00, -2.55825835, -286.27947762)],\n",
       "     [(-4.86802296e-01, -1.84616346,  131.7489185 ),\n",
       "      (-3.30005209e-01, -0.86782519,  178.30272477)]]>"
      ]
     },
     "execution_count": 8,
     "metadata": {},
     "output_type": "execute_result"
    }
   ],
   "source": [
    "samples = sampler.sample(n=3, niter=2, frame=None, random=None)\n",
    "samples"
   ]
  },
  {
   "cell_type": "code",
   "execution_count": 9,
   "metadata": {},
   "outputs": [
    {
     "data": {
      "text/plain": [
       "<SkyCoord (Galactocentric: galcen_coord=<ICRS Coordinate: (ra, dec) in deg\n",
       "    (266.4051, -28.936175)>, galcen_distance=8.122 kpc, galcen_v_sun=(12.9, 245.6, 7.78) km / s, z_sun=20.8 pc, roll=0.0 deg): (x, y, z) in kpc\n",
       "    [[(27.2533559 ,  -7.99571288,   3.62182835),\n",
       "      (30.2343536 ,  15.84875145, -43.02157771)],\n",
       "     [( 7.75435465, -10.41796935, -32.17488259),\n",
       "      (27.07607157,  -7.78650818,   3.57517316)],\n",
       "     [(30.14487454,  15.79686217, -42.93728097),\n",
       "      ( 7.56685117, -10.24302387, -32.36044107)]]>"
      ]
     },
     "execution_count": 9,
     "metadata": {},
     "output_type": "execute_result"
    }
   ],
   "source": [
    "meas = GaussianMeasurementErrorSampler(c_err=0.1)  # Note! not 10%, just 0.1\n",
    "\n",
    "samps = sampler.sample(n=3, niter=2, frame=coord.Galactocentric(), random=0)\n",
    "\n",
    "meas(samps)"
   ]
  },
  {
   "cell_type": "markdown",
   "metadata": {},
   "source": [
    "AGAMA"
   ]
  },
  {
   "cell_type": "code",
   "execution_count": 10,
   "metadata": {},
   "outputs": [],
   "source": [
    "pot_Hern = agama.Potential(\n",
    "    type=\"Spheroid\",\n",
    "    mass=1e12,\n",
    "    scaleRadius=10,\n",
    "    gamma=1,\n",
    "    alpha=1,\n",
    "    beta=4,\n",
    "    cutoffStrength=0,\n",
    ")"
   ]
  },
  {
   "cell_type": "code",
   "execution_count": 11,
   "metadata": {},
   "outputs": [
    {
     "data": {
      "text/plain": [
       "<discO.core.sample.PotentialSampler at 0x7f907e3ae220>"
      ]
     },
     "execution_count": 11,
     "metadata": {},
     "output_type": "execute_result"
    }
   ],
   "source": [
    "sampler = PotentialSampler(\n",
    "    agama.Potential(\n",
    "        type=\"Spheroid\",\n",
    "        mass=1e12,\n",
    "        scaleRadius=10,\n",
    "        gamma=1,\n",
    "        alpha=1,\n",
    "        beta=4,\n",
    "        cutoffStrength=0,\n",
    "    ),\n",
    ")\n",
    "\n",
    "sampler"
   ]
  },
  {
   "cell_type": "code",
   "execution_count": 12,
   "metadata": {},
   "outputs": [
    {
     "data": {
      "text/plain": [
       "<SkyCoord (ICRS): (ra, dec, distance) in (deg, deg, kpc)\n",
       "    [(269.77768587, -80.39242629,  12.15818053),\n",
       "     (211.53383512,  -3.67881258,   7.37721302),\n",
       "     (135.4959591 , -44.62636438, 156.25820005),\n",
       "     (  3.85684546,  -7.46999137,   5.08874191),\n",
       "     ( 42.11155402, -20.90390085,   7.7856392 ),\n",
       "     (212.56246467, -64.15957604,  16.58761413),\n",
       "     (203.11313493,  -9.16456976,   6.31741618),\n",
       "     ( 61.49015059, -33.66474899,   3.83061213),\n",
       "     (344.11597718, -41.05292432,   4.97326983),\n",
       "     ( 98.63435577,  16.56923216,  32.21408322)]>"
      ]
     },
     "execution_count": 12,
     "metadata": {},
     "output_type": "execute_result"
    }
   ],
   "source": [
    "samples = sampler.sample(n=10)\n",
    "samples"
   ]
  },
  {
   "cell_type": "code",
   "execution_count": 13,
   "metadata": {},
   "outputs": [
    {
     "data": {
      "text/plain": [
       "<SkyCoord (ICRS): (ra, dec, distance) in (deg, deg, kpc)\n",
       "    [[(132.33728927,  63.57520897,  17.45039135),\n",
       "      (217.32849778, -80.57852946,   2.6643645 ),\n",
       "      (353.59709381,  47.89216648, 174.37658588)]]>"
      ]
     },
     "execution_count": 13,
     "metadata": {},
     "output_type": "execute_result"
    }
   ],
   "source": [
    "array = sampler.sample(n=10, niter=20)\n",
    "array[:1, :3]"
   ]
  },
  {
   "cell_type": "code",
   "execution_count": 14,
   "metadata": {},
   "outputs": [
    {
     "data": {
      "text/plain": [
       "<SkyCoord (ICRS): (ra, dec, distance) in (deg, deg, kpc)\n",
       "    [(300.28094958, -37.01741098,  20.09047913),\n",
       "     (107.00778556,   8.26602531, 157.55744141),\n",
       "     ( 79.23205649,  23.97670472,  72.83514259),\n",
       "     (311.841145  , -29.46958289,  29.55753177),\n",
       "     (256.00773015, -32.7563284 ,   4.77082656),\n",
       "     (269.59643138, -32.44097596, 145.78864957),\n",
       "     (142.42449445,  50.42324959, 108.43387374),\n",
       "     (158.26554746, -26.7407235 ,  54.30242495),\n",
       "     (296.73301622,  73.95095757,   2.53676585),\n",
       "     (263.8464258 ,  -0.1689742 ,  20.91166967)]>"
      ]
     },
     "execution_count": 14,
     "metadata": {},
     "output_type": "execute_result"
    }
   ],
   "source": [
    "meas = GaussianMeasurementErrorSampler(c_err=0.1)\n",
    "\n",
    "sample = sampler.sample(n=10)\n",
    "meas(sample)"
   ]
  },
  {
   "cell_type": "code",
   "execution_count": 15,
   "metadata": {},
   "outputs": [
    {
     "data": {
      "text/plain": [
       "<discO.plugin.agama.fitter.AGAMAMultipolePotentialFitter at 0x7f907e3c50d0>"
      ]
     },
     "execution_count": 15,
     "metadata": {},
     "output_type": "execute_result"
    }
   ],
   "source": [
    "PotentialFitter[(\"agama\", \"multipole\")] == PotentialFitter[\"agama\"][\n",
    "    \"multipole\"\n",
    "] == AGAMAPotentialFitter[\"multipole\"]\n",
    "\n",
    "fitter = PotentialFitter[(\"agama\", \"multipole\")]()\n",
    "fitter"
   ]
  },
  {
   "cell_type": "code",
   "execution_count": 16,
   "metadata": {},
   "outputs": [
    {
     "data": {
      "text/plain": [
       "<agama.Potential at 0x7f90832278d0>"
      ]
     },
     "execution_count": 16,
     "metadata": {},
     "output_type": "execute_result"
    }
   ],
   "source": [
    "fit = AGAMAMultipolePotentialFitter(symmetry=\"a\")(sample)\n",
    "fit"
   ]
  },
  {
   "cell_type": "code",
   "execution_count": 20,
   "metadata": {},
   "outputs": [
    {
     "data": {
      "text/plain": [
       "(20,)"
      ]
     },
     "execution_count": 20,
     "metadata": {},
     "output_type": "execute_result"
    }
   ],
   "source": [
    "fitter.fit(array).shape"
   ]
  },
  {
   "cell_type": "markdown",
   "metadata": {},
   "source": [
    "---"
   ]
  },
  {
   "cell_type": "markdown",
   "metadata": {},
   "source": [
    "Now pipe with fitters"
   ]
  },
  {
   "cell_type": "code",
   "execution_count": 18,
   "metadata": {},
   "outputs": [],
   "source": [
    "# sampler = PotentialSampler(gdf.isotropicHernquistdf(hernquist_pot))\n",
    "# fitter = PotentialFitter(\n",
    "#     \"multipole\", package=\"agama\", return_specific_class=True\n",
    "# )\n",
    "# ms = GaussianMeasurementErrorSampler()\n",
    "\n",
    "# pipe = sampler | ms | fitter\n",
    "\n",
    "# fit_pot = pipe(n=10000)\n",
    "\n",
    "# fit_pot"
   ]
  },
  {
   "cell_type": "code",
   "execution_count": 19,
   "metadata": {},
   "outputs": [],
   "source": [
    "# ms(sampler.sample(n=3), c_err=0.01)"
   ]
  },
  {
   "cell_type": "markdown",
   "metadata": {},
   "source": [
    "<br><br>\n",
    "\n",
    "- - - \n",
    "\n",
    "<span style='font-size:40px;font-weight:650'>\n",
    "    END\n",
    "</span>"
   ]
  }
 ],
 "metadata": {
  "kernelspec": {
   "display_name": "dev",
   "language": "python",
   "name": "dev"
  },
  "language_info": {
   "codemirror_mode": {
    "name": "ipython",
    "version": 3
   },
   "file_extension": ".py",
   "mimetype": "text/x-python",
   "name": "python",
   "nbconvert_exporter": "python",
   "pygments_lexer": "ipython3",
   "version": "3.8.2"
  },
  "nteract": {
   "version": "0.27.0"
  }
 },
 "nbformat": 4,
 "nbformat_minor": 4
}
