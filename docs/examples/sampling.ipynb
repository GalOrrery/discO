{
 "cells": [
  {
   "cell_type": "markdown",
   "metadata": {},
   "source": [
    "# Title"
   ]
  },
  {
   "cell_type": "code",
   "execution_count": 3,
   "metadata": {
    "collapsed": false,
    "inputHidden": false,
    "jupyter": {
     "outputs_hidden": false
    },
    "outputHidden": false
   },
   "outputs": [],
   "source": [
    "\"\"\"\n",
    "    TITLE   :\n",
    "    PROJECT :\n",
    "\"\"\";\n",
    "\n",
    "__author__ = ''\n",
    "__version__ = ''"
   ]
  },
  {
   "cell_type": "markdown",
   "metadata": {},
   "source": [
    "<span style='font-size:30px;font-weight:650'>\n",
    "    About\n",
    "</span>\n",
    "\n",
    "information about this notebook\n"
   ]
  },
  {
   "cell_type": "markdown",
   "metadata": {},
   "source": [
    "<br><br>\n",
    "\n",
    "- - - \n",
    "\n",
    "## Prepare\n"
   ]
  },
  {
   "cell_type": "markdown",
   "metadata": {
    "inputHidden": false,
    "outputHidden": false
   },
   "source": [
    "### Imports"
   ]
  },
  {
   "cell_type": "code",
   "execution_count": 4,
   "metadata": {},
   "outputs": [],
   "source": [
    "# THIRD PARTY\n",
    "import numpy as np\n",
    "\n",
    "import astropy.coordinates as coord\n",
    "import astropy.units as u\n",
    "from astropy.visualization import quantity_support\n",
    "\n",
    "from galpy import potential as gpot\n",
    "from galpy import df as gdf\n",
    "import agama\n",
    "\n",
    "# PROJECT-SPECIFIC\n",
    "from discO import conf\n",
    "from discO import PotentialSampler, GaussianMeasurementErrorSampler\n",
    "from discO.extern.galpy import GalpyPotentialSampler\n",
    "from discO.extern.agama import AGAMAPotentialSampler"
   ]
  },
  {
   "cell_type": "code",
   "execution_count": 6,
   "metadata": {},
   "outputs": [],
   "source": [
    "quantity_support();"
   ]
  },
  {
   "cell_type": "markdown",
   "metadata": {
    "inputHidden": false,
    "outputHidden": false
   },
   "source": [
    "### Parameters"
   ]
  },
  {
   "cell_type": "code",
   "execution_count": 7,
   "metadata": {},
   "outputs": [],
   "source": [
    "mass = 1e12 * u.solMass\n",
    "r0 = 10 * u.kpc  # scale factor"
   ]
  },
  {
   "cell_type": "markdown",
   "metadata": {},
   "source": [
    "<br><br>\n",
    "\n",
    "- - - \n",
    "\n",
    "## Code"
   ]
  },
  {
   "cell_type": "code",
   "execution_count": 10,
   "metadata": {},
   "outputs": [],
   "source": [
    "hernquist_pot = gpot.HernquistPotential(amp=mass, a=r0)"
   ]
  },
  {
   "cell_type": "code",
   "execution_count": 11,
   "metadata": {},
   "outputs": [
    {
     "data": {
      "text/plain": [
       "<SkyCoord (ICRS): (ra, dec, distance) in (deg, deg, kpc)\n",
       "    [( 57.28967844, -10.24552944,  15.59416962),\n",
       "     ( 35.18365664, -13.87658697,  71.11778097),\n",
       "     (151.50179475,  25.44896814,  27.73565783),\n",
       "     ( 29.31768639,  39.76503984, 277.36005243),\n",
       "     (290.29370181, -35.96801609,  21.65758233),\n",
       "     (251.27700789,   3.59458879,  39.71698392),\n",
       "     (319.80717188, -44.36936295,  14.05643205),\n",
       "     (335.65907837,  42.42438802,  49.67683221),\n",
       "     (336.50197028,  14.46312243,  24.20469522),\n",
       "     (298.10838653, -23.07323642, 216.83722675)]\n",
       " (pm_ra_cosdec, pm_dec, radial_velocity) in (mas / yr, mas / yr, km / s)\n",
       "    [( 3.7712906 , -1.77875047,  -29.91516669),\n",
       "     ( 0.86418893, -0.87769723,   58.37524997),\n",
       "     (-0.45555229, -2.07863305,  122.06665169),\n",
       "     ( 0.10468691, -0.07270632, -109.16216059),\n",
       "     ( 0.41971767, -1.74725582,  -10.65030709),\n",
       "     (-0.86696437, -0.68452346, -179.21575502),\n",
       "     ( 0.59928085, -2.79722695,  -22.42080189),\n",
       "     ( 0.16589981,  0.25276936, -312.37147208),\n",
       "     ( 0.10602605, -2.64539671, -113.85226329),\n",
       "     (-0.08150979, -0.22716261,  -74.36022416)]>"
      ]
     },
     "execution_count": 11,
     "metadata": {},
     "output_type": "execute_result"
    }
   ],
   "source": [
    "sampler = PotentialSampler(gdf.isotropicHernquistdf(hernquist_pot))\n",
    "sampler.sample(n=10)"
   ]
  },
  {
   "cell_type": "code",
   "execution_count": 32,
   "metadata": {
    "execution": {
     "iopub.execute_input": "2021-01-08T21:03:19.255Z",
     "iopub.status.busy": "2021-01-08T21:03:19.247Z",
     "iopub.status.idle": "2021-01-08T21:03:19.540Z",
     "shell.execute_reply": "2021-01-08T21:03:19.554Z"
    }
   },
   "outputs": [
    {
     "data": {
      "text/plain": [
       "<SkyCoord (ICRS): (ra, dec, distance) in (deg, deg, kpc)\n",
       "    [(253.32843542, -38.64375696, 70.9631958 ),\n",
       "     (278.24396417,  29.24388061,  5.64393122),\n",
       "     (344.2517297 , -49.68718139, 44.69146923)]\n",
       " (pm_ra_cosdec, pm_dec, radial_velocity) in (mas / yr, mas / yr, km / s)\n",
       "    [(-0.41850885, -0.34364907,   14.18413179),\n",
       "     ( 5.04910284, -1.72523734, -175.77680393),\n",
       "     ( 0.89364931, -0.75713715,    3.38484785)]>"
      ]
     },
     "execution_count": 32,
     "metadata": {},
     "output_type": "execute_result"
    }
   ],
   "source": [
    "array = sampler.resample(niter=20, n=3)\n",
    "\n",
    "array[0, 1]"
   ]
  },
  {
   "cell_type": "code",
   "execution_count": 33,
   "metadata": {
    "collapsed": true,
    "execution": {
     "iopub.execute_input": "2021-01-08T21:03:26.793Z",
     "iopub.status.busy": "2021-01-08T21:03:26.788Z",
     "iopub.status.idle": "2021-01-08T21:03:26.808Z",
     "shell.execute_reply": "2021-01-08T21:03:26.815Z"
    },
    "jupyter": {
     "outputs_hidden": true,
     "source_hidden": false
    },
    "nteract": {
     "transient": {
      "deleting": false
     }
    }
   },
   "outputs": [
    {
     "data": {
      "text/plain": [
       "<discO.extern.galpy.sample.GalpyPotentialSampler at 0x7fbd948d0700>"
      ]
     },
     "execution_count": 33,
     "metadata": {},
     "output_type": "execute_result"
    }
   ],
   "source": [
    "sampler._instance"
   ]
  },
  {
   "cell_type": "markdown",
   "metadata": {},
   "source": [
    "AGAMA"
   ]
  },
  {
   "cell_type": "code",
   "execution_count": 27,
   "metadata": {
    "execution": {
     "iopub.execute_input": "2021-01-08T21:02:27.507Z",
     "iopub.status.busy": "2021-01-08T21:02:27.501Z",
     "iopub.status.idle": "2021-01-08T21:02:27.518Z",
     "shell.execute_reply": "2021-01-08T21:02:27.525Z"
    }
   },
   "outputs": [],
   "source": [
    "pot_Hern = agama.Potential(type='Spheroid', mass=1e12, scaleRadius=10, gamma=1, alpha =1, beta=4, cutoffStrength=0)"
   ]
  },
  {
   "cell_type": "code",
   "execution_count": 36,
   "metadata": {
    "execution": {
     "iopub.execute_input": "2021-01-08T21:03:45.827Z",
     "iopub.status.busy": "2021-01-08T21:03:45.818Z",
     "iopub.status.idle": "2021-01-08T21:03:45.840Z",
     "shell.execute_reply": "2021-01-08T21:03:45.845Z"
    }
   },
   "outputs": [
    {
     "data": {
      "text/plain": [
       "<discO.core.sample.PotentialSampler at 0x7fbd946ea730>"
      ]
     },
     "execution_count": 36,
     "metadata": {},
     "output_type": "execute_result"
    }
   ],
   "source": [
    "sampler = PotentialSampler(\n",
    "    agama.Potential(type='Spheroid', mass=1e12, scaleRadius=10, gamma=1, alpha =1, beta=4, cutoffStrength=0),\n",
    ")\n",
    "\n",
    "sampler"
   ]
  },
  {
   "cell_type": "code",
   "execution_count": 37,
   "metadata": {
    "execution": {
     "iopub.execute_input": "2021-01-08T21:03:47.879Z",
     "iopub.status.busy": "2021-01-08T21:03:47.871Z",
     "iopub.status.idle": "2021-01-08T21:03:47.893Z",
     "shell.execute_reply": "2021-01-08T21:03:47.899Z"
    }
   },
   "outputs": [
    {
     "data": {
      "text/plain": [
       "<SkyCoord (ICRS): (ra, dec, distance) in (deg, deg, kpc)\n",
       "    [(214.46359204,  46.31018846,   7.75971433),\n",
       "     (203.44129085,  72.46682219,   1.958076  ),\n",
       "     (228.88249676, -58.99884576,   4.73988409),\n",
       "     (112.68609327, -53.87903217,  19.2007379 ),\n",
       "     ( 35.52853245,  -7.63588012,  11.72565254),\n",
       "     (114.5947318 ,  75.93097341,  99.55560549),\n",
       "     (240.5978794 ,   6.54805444, 823.63128559),\n",
       "     ( 98.7684863 ,  30.60378122,  20.77447887),\n",
       "     (223.97787116, -72.92522127,   1.55342859),\n",
       "     (305.10078681, -60.88181598,  43.09081437)]>"
      ]
     },
     "execution_count": 37,
     "metadata": {},
     "output_type": "execute_result"
    }
   ],
   "source": [
    "samples = sampler.sample(n=10)\n",
    "samples"
   ]
  },
  {
   "cell_type": "code",
   "execution_count": 38,
   "metadata": {
    "execution": {
     "iopub.execute_input": "2021-01-08T21:04:03.490Z",
     "iopub.status.busy": "2021-01-08T21:04:03.482Z",
     "iopub.status.idle": "2021-01-08T21:04:03.511Z",
     "shell.execute_reply": "2021-01-08T21:04:03.523Z"
    }
   },
   "outputs": [
    {
     "data": {
      "text/plain": [
       "<agama.Potential at 0x7fbd94b40570>"
      ]
     },
     "execution_count": 38,
     "metadata": {},
     "output_type": "execute_result"
    }
   ],
   "source": [
    "samples.potential"
   ]
  },
  {
   "cell_type": "code",
   "execution_count": 41,
   "metadata": {
    "execution": {
     "iopub.execute_input": "2021-01-08T21:04:10.421Z",
     "iopub.status.busy": "2021-01-08T21:04:10.416Z",
     "iopub.status.idle": "2021-01-08T21:04:10.511Z",
     "shell.execute_reply": "2021-01-08T21:04:10.528Z"
    }
   },
   "outputs": [
    {
     "data": {
      "text/plain": [
       "array([[<SkyCoord (ICRS): (ra, dec, distance) in (deg, deg, kpc)\n",
       "    [( 85.82871899,  29.43431962, 80.19898726),\n",
       "     (322.82202395,  -2.02430613, 57.42167078),\n",
       "     (316.90798595, -51.2351452 , 10.75122914)]>,\n",
       "        <SkyCoord (ICRS): (ra, dec, distance) in (deg, deg, kpc)\n",
       "    [(112.16397588, -15.62163995, 198.73845272),\n",
       "     (215.35836886,  58.21797693,  50.79114918),\n",
       "     (349.31128296,  15.89803886,  14.10723674)]>,\n",
       "        <SkyCoord (ICRS): (ra, dec, distance) in (deg, deg, kpc)\n",
       "    [( 33.25883985,  56.52342483, 22.08826193),\n",
       "     (270.36090699, -37.91184112, 96.31478025),\n",
       "     (350.21451467, -27.43959089, 20.37785779)]>,\n",
       "        <SkyCoord (ICRS): (ra, dec, distance) in (deg, deg, kpc)\n",
       "    [(135.38108794, -8.63218079, 75.5545025 ),\n",
       "     ( 44.15306276, 26.26362322, 16.39688817),\n",
       "     (188.38280938, 56.31265872, 11.20043373)]>,\n",
       "        <SkyCoord (ICRS): (ra, dec, distance) in (deg, deg, kpc)\n",
       "    [(  3.38475812,  -5.22624916, 10.82405519),\n",
       "     (179.63905266,  71.07575689, 58.14677198),\n",
       "     ( 94.54357656, -31.6385821 , 81.33041032)]>,\n",
       "        <SkyCoord (ICRS): (ra, dec, distance) in (deg, deg, kpc)\n",
       "    [(180.8032099 , -34.78578787,  9.75080669),\n",
       "     ( 74.1383785 , -47.78305347, 22.73330282),\n",
       "     (312.44490251,  41.19098512,  8.72590065)]>,\n",
       "        <SkyCoord (ICRS): (ra, dec, distance) in (deg, deg, kpc)\n",
       "    [(280.18006457, -10.27372123, 77.99541243),\n",
       "     (289.22746786,  74.35233182, 99.10577486),\n",
       "     ( 26.85905965, -43.09044783, 59.75802921)]>,\n",
       "        <SkyCoord (ICRS): (ra, dec, distance) in (deg, deg, kpc)\n",
       "    [( 80.10197622, -40.82248273,   28.88860157),\n",
       "     (204.82578614,  29.90383598, 1548.71614695),\n",
       "     ( 77.45332608,   8.79309654,    4.31674233)]>,\n",
       "        <SkyCoord (ICRS): (ra, dec, distance) in (deg, deg, kpc)\n",
       "    [(350.50517299,  49.00723983,  11.28554338),\n",
       "     (189.10926379, -30.84365907,  44.93183702),\n",
       "     (156.04503326, -65.19747155, 230.80053409)]>,\n",
       "        <SkyCoord (ICRS): (ra, dec, distance) in (deg, deg, kpc)\n",
       "    [(276.43078961,  57.10223228, 15.48125492),\n",
       "     ( 21.74583926,  83.35200763, 60.08741007),\n",
       "     (275.4572447 , -32.89321536, 77.53452948)]>,\n",
       "        <SkyCoord (ICRS): (ra, dec, distance) in (deg, deg, kpc)\n",
       "    [(347.57249085,  51.53423572, 33.03485643),\n",
       "     (203.12341689, -17.33468489,  3.32689727),\n",
       "     (297.99858576,   7.15440995, 21.32872803)]>,\n",
       "        <SkyCoord (ICRS): (ra, dec, distance) in (deg, deg, kpc)\n",
       "    [(358.71186322, -49.09003497, 21.91008996),\n",
       "     (252.62800414,  61.34798305,  8.87741186),\n",
       "     (194.74383845,  29.68882384, 23.80285846)]>,\n",
       "        <SkyCoord (ICRS): (ra, dec, distance) in (deg, deg, kpc)\n",
       "    [( 76.97487673,  11.50843934, 10.25568938),\n",
       "     (154.52208112, -46.24457058,  4.92629688),\n",
       "     (264.13343221, -16.13216553, 42.43846584)]>,\n",
       "        <SkyCoord (ICRS): (ra, dec, distance) in (deg, deg, kpc)\n",
       "    [( 27.86372279, 54.12642226, 3347.6649484 ),\n",
       "     (228.21102215, 51.02223743,   55.71363191),\n",
       "     (345.18600658, 40.2183977 ,   23.21161686)]>,\n",
       "        <SkyCoord (ICRS): (ra, dec, distance) in (deg, deg, kpc)\n",
       "    [( 16.23496907, -44.48353836, 19.23461329),\n",
       "     (301.64312556,  31.52628407,  4.3436666 ),\n",
       "     (225.06336387, -22.997477  ,  0.96773853)]>,\n",
       "        <SkyCoord (ICRS): (ra, dec, distance) in (deg, deg, kpc)\n",
       "    [(312.78913178,  32.51644391, 13.92566792),\n",
       "     ( 45.11994246, -21.2428166 ,  4.26393489),\n",
       "     (300.18833435,  11.86345665,  0.1623882 )]>,\n",
       "        <SkyCoord (ICRS): (ra, dec, distance) in (deg, deg, kpc)\n",
       "    [(  6.71319687, -67.33628142,  68.25198624),\n",
       "     (252.39864218,  36.2721253 ,  53.99854503),\n",
       "     ( 29.89431049,  41.1067974 , 115.94587817)]>,\n",
       "        <SkyCoord (ICRS): (ra, dec, distance) in (deg, deg, kpc)\n",
       "    [(256.96598051, -40.97767122, 50.08641822),\n",
       "     (  4.77403808, -33.59655377, 21.46473887),\n",
       "     (215.42115009, -24.93906861, 42.67245986)]>,\n",
       "        <SkyCoord (ICRS): (ra, dec, distance) in (deg, deg, kpc)\n",
       "    [( 67.89619285, -47.07102489,   2.07649317),\n",
       "     ( 93.36062773, -18.70380678, 769.47251959),\n",
       "     (114.03784455, -59.75572065,   2.56644079)]>,\n",
       "        <SkyCoord (ICRS): (ra, dec, distance) in (deg, deg, kpc)\n",
       "    [( 56.80746829,  1.04577755e-02, 21.44650697),\n",
       "     (342.21163746, -4.11668250e+01, 55.94965935),\n",
       "     (350.72074513, -5.21799920e+01, 18.32869277)]>]], dtype=object)"
      ]
     },
     "execution_count": 41,
     "metadata": {},
     "output_type": "execute_result"
    }
   ],
   "source": [
    "array = sampler.resample(niter=20, n=3)\n",
    "\n",
    "array"
   ]
  },
  {
   "cell_type": "code",
   "execution_count": null,
   "metadata": {},
   "outputs": [],
   "source": []
  },
  {
   "cell_type": "markdown",
   "metadata": {},
   "source": [
    "---"
   ]
  },
  {
   "cell_type": "markdown",
   "metadata": {},
   "source": [
    "Now pipe with fitters"
   ]
  },
  {
   "cell_type": "code",
   "execution_count": null,
   "metadata": {},
   "outputs": [],
   "source": [
    "sampler = PotentialSampler(gdf.isotropicHernquistdf(hernquist_pot))\n",
    "fitter = PotentialFitter(\"multipole\", package=\"agama\", return_specific_class=True)\n",
    "ms = GaussianMeasurementErrorSampler()\n",
    "\n",
    "pipe = sampler | ms | fitter\n",
    "\n",
    "fit_pot = pipe(n=10000)\n",
    "\n",
    "fit_pot"
   ]
  },
  {
   "cell_type": "code",
   "execution_count": null,
   "metadata": {},
   "outputs": [],
   "source": [
    "ms(sampler.sample(n=3), c_err=0.01)"
   ]
  },
  {
   "cell_type": "code",
   "execution_count": null,
   "metadata": {},
   "outputs": [],
   "source": []
  },
  {
   "cell_type": "markdown",
   "metadata": {},
   "source": [
    "<br><br>\n",
    "\n",
    "- - - \n",
    "\n",
    "<span style='font-size:40px;font-weight:650'>\n",
    "    END\n",
    "</span>"
   ]
  }
 ],
 "metadata": {
  "kernelspec": {
   "display_name": "dev",
   "language": "python",
   "name": "dev"
  },
  "language_info": {
   "codemirror_mode": {
    "name": "ipython",
    "version": 3
   },
   "file_extension": ".py",
   "mimetype": "text/x-python",
   "name": "python",
   "nbconvert_exporter": "python",
   "pygments_lexer": "ipython3",
   "version": "3.8.2"
  },
  "nteract": {
   "version": "0.27.0"
  }
 },
 "nbformat": 4,
 "nbformat_minor": 4
}
