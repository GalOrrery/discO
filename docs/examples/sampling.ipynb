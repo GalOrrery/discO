{
 "cells": [
  {
   "cell_type": "markdown",
   "metadata": {},
   "source": [
    "# Title"
   ]
  },
  {
   "cell_type": "code",
   "execution_count": null,
   "metadata": {
    "collapsed": false,
    "inputHidden": false,
    "jupyter": {
     "outputs_hidden": false
    },
    "outputHidden": false
   },
   "outputs": [],
   "source": [
    "\"\"\"\n",
    "    TITLE   :\n",
    "    PROJECT :\n",
    "\"\"\";\n",
    "\n",
    "__author__ = ''\n",
    "__version__ = ''"
   ]
  },
  {
   "cell_type": "markdown",
   "metadata": {},
   "source": [
    "<span style='font-size:30px;font-weight:650'>\n",
    "    About\n",
    "</span>\n",
    "\n",
    "information about this notebook\n"
   ]
  },
  {
   "cell_type": "markdown",
   "metadata": {},
   "source": [
    "<br><br>\n",
    "\n",
    "- - - \n",
    "\n",
    "## Prepare\n"
   ]
  },
  {
   "cell_type": "markdown",
   "metadata": {
    "inputHidden": false,
    "outputHidden": false
   },
   "source": [
    "### Imports"
   ]
  },
  {
   "cell_type": "code",
   "execution_count": 2,
   "metadata": {},
   "outputs": [],
   "source": [
    "# THIRD PARTY\n",
    "import numpy as np\n",
    "\n",
    "import astropy.coordinates as coord\n",
    "import astropy.units as u\n",
    "from astropy.visualization import quantity_support\n",
    "\n",
    "from galpy import potential as gpot\n",
    "from galpy import df as gdf\n",
    "import agama\n",
    "\n",
    "# PROJECT-SPECIFIC\n",
    "from discO import conf\n",
    "from discO import PotentialSampler, GaussianMeasurementErrorSampler"
   ]
  },
  {
   "cell_type": "code",
   "execution_count": 3,
   "metadata": {},
   "outputs": [],
   "source": [
    "quantity_support();"
   ]
  },
  {
   "cell_type": "markdown",
   "metadata": {
    "inputHidden": false,
    "outputHidden": false
   },
   "source": [
    "### Parameters"
   ]
  },
  {
   "cell_type": "code",
   "execution_count": 4,
   "metadata": {},
   "outputs": [],
   "source": [
    "mass = 1e12 * u.solMass\n",
    "r0 = 10 * u.kpc  # scale factor"
   ]
  },
  {
   "cell_type": "markdown",
   "metadata": {},
   "source": [
    "<br><br>\n",
    "\n",
    "- - - \n",
    "\n",
    "## Code"
   ]
  },
  {
   "cell_type": "code",
   "execution_count": 5,
   "metadata": {},
   "outputs": [],
   "source": [
    "hernquist_pot = gpot.HernquistPotential(amp=mass, a=r0)"
   ]
  },
  {
   "cell_type": "code",
   "execution_count": 6,
   "metadata": {},
   "outputs": [],
   "source": [
    "sampler = PotentialSampler(gdf.isotropicHernquistdf(hernquist_pot))\n",
    "# sampler.sample(n=10)"
   ]
  },
  {
   "cell_type": "code",
   "execution_count": 7,
   "metadata": {},
   "outputs": [
    {
     "data": {
      "text/plain": [
       "<SkyCoord (ICRS): (ra, dec, distance) in (deg, deg, kpc)\n",
       "    [[(181.03038185,   8.86964772, 11.72871177),\n",
       "      (272.50982481,   8.56533101,  7.50222492),\n",
       "      (115.38231971,  77.38565247, 10.14305171)],\n",
       "     [(205.83040344, -47.64782902,  8.24700861),\n",
       "      (  1.33666106, -11.77002859, 25.46644816),\n",
       "      (228.47298224, -30.5859229 , 48.75079335)]]\n",
       " (pm_ra_cosdec, pm_dec, radial_velocity) in (mas / yr, mas / yr, km / s)\n",
       "    [[(-0.7840572 ,  -7.58361473, 149.82775425),\n",
       "      (-6.78746292, -10.77064775,  85.76884882),\n",
       "      ( 0.86476185,  -3.67108727,  60.45524089)],\n",
       "     [( 0.51470008,   7.50900185, 139.60190371),\n",
       "      ( 0.89328421,  -2.01026422, -87.82292783),\n",
       "      (-0.71694177,  -0.28500617,  45.41169304)]]>"
      ]
     },
     "execution_count": 7,
     "metadata": {},
     "output_type": "execute_result"
    }
   ],
   "source": [
    "samples = sampler.resample(niter=2, n=3, frame=None, sample_axis=-1, random=None)\n",
    "samples"
   ]
  },
  {
   "cell_type": "code",
   "execution_count": 8,
   "metadata": {},
   "outputs": [
    {
     "data": {
      "text/latex": [
       "[[$181^\\circ01{}^\\prime49.3746{}^{\\prime\\prime}$\n",
       "  $272^\\circ30{}^\\prime35.3693{}^{\\prime\\prime}$\n",
       "  $115^\\circ22{}^\\prime56.3509{}^{\\prime\\prime}$]\n",
       " [$205^\\circ49{}^\\prime49.4524{}^{\\prime\\prime}$\n",
       "  $1^\\circ20{}^\\prime11.9798{}^{\\prime\\prime}$\n",
       "  $228^\\circ28{}^\\prime22.7361{}^{\\prime\\prime}$]]"
      ],
      "text/plain": [
       "<Longitude [[181.03038185, 272.50982481, 115.38231971],\n",
       "            [205.83040344,   1.33666106, 228.47298224]] deg>"
      ]
     },
     "execution_count": 8,
     "metadata": {},
     "output_type": "execute_result"
    }
   ],
   "source": [
    "samples.ra"
   ]
  },
  {
   "cell_type": "code",
   "execution_count": 9,
   "metadata": {},
   "outputs": [
    {
     "data": {
      "text/latex": [
       "[$189^\\circ38{}^\\prime27.0316{}^{\\prime\\prime}$\n",
       " $145^\\circ12{}^\\prime48.0561{}^{\\prime\\prime}$]"
      ],
      "text/plain": [
       "<Longitude [189.64084212, 145.21334891] deg>"
      ]
     },
     "execution_count": 9,
     "metadata": {},
     "output_type": "execute_result"
    }
   ],
   "source": [
    "samples.ra.mean(axis=-1)"
   ]
  },
  {
   "cell_type": "code",
   "execution_count": null,
   "metadata": {},
   "outputs": [],
   "source": []
  },
  {
   "cell_type": "markdown",
   "metadata": {},
   "source": [
    "AGAMA"
   ]
  },
  {
   "cell_type": "code",
   "execution_count": 10,
   "metadata": {},
   "outputs": [],
   "source": [
    "pot_Hern = agama.Potential(type='Spheroid', mass=1e12, scaleRadius=10, gamma=1, alpha =1, beta=4, cutoffStrength=0)"
   ]
  },
  {
   "cell_type": "code",
   "execution_count": 11,
   "metadata": {},
   "outputs": [
    {
     "data": {
      "text/plain": [
       "<discO.core.sample.PotentialSampler at 0x7fa17ca739d0>"
      ]
     },
     "execution_count": 11,
     "metadata": {},
     "output_type": "execute_result"
    }
   ],
   "source": [
    "sampler = PotentialSampler(\n",
    "    agama.Potential(type='Spheroid', mass=1e12, scaleRadius=10, gamma=1, alpha =1, beta=4, cutoffStrength=0),\n",
    ")\n",
    "\n",
    "sampler"
   ]
  },
  {
   "cell_type": "code",
   "execution_count": 12,
   "metadata": {},
   "outputs": [
    {
     "data": {
      "text/plain": [
       "<SkyCoord (ICRS): (ra, dec, distance) in (deg, deg, kpc)\n",
       "    [(269.77768587, -80.39242629,  12.15818053),\n",
       "     (211.53383512,  -3.67881258,   7.37721302),\n",
       "     (135.4959591 , -44.62636438, 156.25820005),\n",
       "     (  3.85684546,  -7.46999137,   5.08874191),\n",
       "     ( 42.11155402, -20.90390085,   7.7856392 ),\n",
       "     (212.56246467, -64.15957604,  16.58761413),\n",
       "     (203.11313493,  -9.16456976,   6.31741618),\n",
       "     ( 61.49015059, -33.66474899,   3.83061213),\n",
       "     (344.11597718, -41.05292432,   4.97326983),\n",
       "     ( 98.63435577,  16.56923216,  32.21408322)]>"
      ]
     },
     "execution_count": 12,
     "metadata": {},
     "output_type": "execute_result"
    }
   ],
   "source": [
    "samples = sampler.sample(n=10)\n",
    "samples"
   ]
  },
  {
   "cell_type": "code",
   "execution_count": 13,
   "metadata": {},
   "outputs": [
    {
     "data": {
      "text/plain": [
       "<agama.Potential at 0x7fa17ca5d6d0>"
      ]
     },
     "execution_count": 13,
     "metadata": {},
     "output_type": "execute_result"
    }
   ],
   "source": [
    "samples.potential"
   ]
  },
  {
   "cell_type": "code",
   "execution_count": 14,
   "metadata": {},
   "outputs": [
    {
     "data": {
      "text/plain": [
       "<SkyCoord (ICRS): (ra, dec, distance) in (deg, deg, kpc)\n",
       "    [[(129.03524334, -56.9676308 , 9.61517737e+01),\n",
       "      (168.19072372, -43.2141901 , 2.03577298e+01),\n",
       "      (143.38269417,  37.60374365, 2.20657715e+01)],\n",
       "     [(132.33728927,   1.01790775, 1.94559012e+01),\n",
       "      (217.32849778, -12.92419406, 2.44626360e+01),\n",
       "      (353.59709381, -25.25701904, 3.40593284e+00)],\n",
       "     [(158.8787906 , -32.67094052, 2.12963796e+01),\n",
       "      (245.13396814,  26.6052406 , 1.82077872e+01),\n",
       "      (189.41093455,  23.48182559, 4.59594112e+00)],\n",
       "     [( 71.70686227, -18.6030652 , 2.85785231e+01),\n",
       "      (358.01572722,  57.00733972, 9.89492176e+00),\n",
       "      (253.62991614,  76.03126032, 3.55818643e+00)],\n",
       "     [(154.17532143, -53.6948407 , 1.12427032e+01),\n",
       "      (113.52402778,  50.74812545, 9.94153299e+00),\n",
       "      ( 50.17935374, -18.51390405, 4.46464834e+01)],\n",
       "     [(344.62263107,  61.312028  , 4.39212405e+00),\n",
       "      (168.93917844,  -3.49862856, 2.30554913e+01),\n",
       "      (290.89025883, -37.26150772, 8.62462443e+00)],\n",
       "     [(145.61715621, -32.8423851 , 1.25578048e+01),\n",
       "      (214.82216834,  76.42741803, 1.10774895e+01),\n",
       "      ( 70.99098487, -26.68284003, 1.54753159e+01)],\n",
       "     [(334.72751871, -19.06600291, 1.87663488e+01),\n",
       "      (184.66629617, -34.99960056, 5.83544233e+00),\n",
       "      (339.65266139,   7.08110781, 3.76773727e+03)],\n",
       "     [(213.4690833 , -65.13962265, 7.40619463e+00),\n",
       "      ( 53.91360187,  42.29221035, 6.67066939e+00),\n",
       "      ( 23.94607239, -25.46557427, 1.66701352e+03)],\n",
       "     [(336.39036274,  -1.88435643, 9.06110184e+00),\n",
       "      (287.96361174, -29.58983803, 9.60724609e+00),\n",
       "      (113.21418007,   4.72331413, 2.61665629e+01)],\n",
       "     [(272.96900216,  40.76276742, 2.51403787e+01),\n",
       "      (260.78166092, -10.75312533, 4.12145936e+00),\n",
       "      (331.08510448,  -6.93446594, 6.72816611e+00)],\n",
       "     [(162.85557497,  59.49545534, 2.45292746e+01),\n",
       "      (247.87929178,  30.69200429, 1.93624755e+01),\n",
       "      (317.16245053,   3.78303624, 3.39757013e+00)],\n",
       "     [(303.75674659, -16.45266012, 1.60420305e+01),\n",
       "      (253.33983897, -33.13390039, 2.18095980e+01),\n",
       "      (133.01836987, -28.73465199, 2.87368582e+02)],\n",
       "     [(330.698791  , -14.4018178 , 1.70588097e+02),\n",
       "      (154.12498993, -57.27905219, 5.73411359e+01),\n",
       "      (285.17382967,  74.95635702, 2.01408399e+01)],\n",
       "     [( 62.52061382,   1.64540313, 1.35079615e+02),\n",
       "      (254.77210834,  29.31554951, 1.82520918e+02),\n",
       "      (103.3604075 , -29.87009586, 2.69895732e+01)],\n",
       "     [( 23.39831855, -16.36439687, 4.80462616e+00),\n",
       "      (222.33164383,  39.79669691, 9.91971395e+00),\n",
       "      (126.92438228,  72.33039012, 4.01012889e+01)],\n",
       "     [(184.621558  ,  29.00804852, 1.08276768e+02),\n",
       "      (283.70710586, -12.55633803, 1.57285611e+02),\n",
       "      ( 63.86024654,  34.55777742, 8.02007850e+00)],\n",
       "     [(341.21093709,  50.57645781, 2.67115409e+01),\n",
       "      (175.20159024, -33.3592399 , 8.67246745e+00),\n",
       "      ( 39.28705003, -41.27136029, 1.25119036e+01)],\n",
       "     [(214.46359204,  18.87652709, 1.95652505e+01),\n",
       "      (203.44129085, -51.20117906, 7.86256913e+00),\n",
       "      (228.88249676,  23.94342087, 9.88407530e+00)],\n",
       "     [( 98.7684863 , -71.26862554, 6.71652388e-01),\n",
       "      (223.97787116, -23.64578763, 2.24560482e+01),\n",
       "      (305.10078681,  29.55736011, 1.37971384e+01)]]>"
      ]
     },
     "execution_count": 14,
     "metadata": {},
     "output_type": "execute_result"
    }
   ],
   "source": [
    "array = sampler.resample(niter=20, n=3)\n",
    "\n",
    "array"
   ]
  },
  {
   "cell_type": "code",
   "execution_count": null,
   "metadata": {},
   "outputs": [],
   "source": []
  },
  {
   "cell_type": "markdown",
   "metadata": {},
   "source": [
    "---"
   ]
  },
  {
   "cell_type": "markdown",
   "metadata": {},
   "source": [
    "Now pipe with fitters"
   ]
  },
  {
   "cell_type": "code",
   "execution_count": 15,
   "metadata": {},
   "outputs": [
    {
     "ename": "NameError",
     "evalue": "name 'PotentialFitter' is not defined",
     "output_type": "error",
     "traceback": [
      "\u001b[0;31m---------------------------------------------------------------------------\u001b[0m",
      "\u001b[0;31mNameError\u001b[0m                                 Traceback (most recent call last)",
      "\u001b[0;32m<ipython-input-15-bd2af59f8031>\u001b[0m in \u001b[0;36m<module>\u001b[0;34m\u001b[0m\n\u001b[1;32m      1\u001b[0m \u001b[0msampler\u001b[0m \u001b[0;34m=\u001b[0m \u001b[0mPotentialSampler\u001b[0m\u001b[0;34m(\u001b[0m\u001b[0mgdf\u001b[0m\u001b[0;34m.\u001b[0m\u001b[0misotropicHernquistdf\u001b[0m\u001b[0;34m(\u001b[0m\u001b[0mhernquist_pot\u001b[0m\u001b[0;34m)\u001b[0m\u001b[0;34m)\u001b[0m\u001b[0;34m\u001b[0m\u001b[0;34m\u001b[0m\u001b[0m\n\u001b[0;32m----> 2\u001b[0;31m \u001b[0mfitter\u001b[0m \u001b[0;34m=\u001b[0m \u001b[0mPotentialFitter\u001b[0m\u001b[0;34m(\u001b[0m\u001b[0;34m\"multipole\"\u001b[0m\u001b[0;34m,\u001b[0m \u001b[0mpackage\u001b[0m\u001b[0;34m=\u001b[0m\u001b[0;34m\"agama\"\u001b[0m\u001b[0;34m,\u001b[0m \u001b[0mreturn_specific_class\u001b[0m\u001b[0;34m=\u001b[0m\u001b[0;32mTrue\u001b[0m\u001b[0;34m)\u001b[0m\u001b[0;34m\u001b[0m\u001b[0;34m\u001b[0m\u001b[0m\n\u001b[0m\u001b[1;32m      3\u001b[0m \u001b[0mms\u001b[0m \u001b[0;34m=\u001b[0m \u001b[0mGaussianMeasurementErrorSampler\u001b[0m\u001b[0;34m(\u001b[0m\u001b[0;34m)\u001b[0m\u001b[0;34m\u001b[0m\u001b[0;34m\u001b[0m\u001b[0m\n\u001b[1;32m      4\u001b[0m \u001b[0;34m\u001b[0m\u001b[0m\n\u001b[1;32m      5\u001b[0m \u001b[0mpipe\u001b[0m \u001b[0;34m=\u001b[0m \u001b[0msampler\u001b[0m \u001b[0;34m|\u001b[0m \u001b[0mms\u001b[0m \u001b[0;34m|\u001b[0m \u001b[0mfitter\u001b[0m\u001b[0;34m\u001b[0m\u001b[0;34m\u001b[0m\u001b[0m\n",
      "\u001b[0;31mNameError\u001b[0m: name 'PotentialFitter' is not defined"
     ]
    }
   ],
   "source": [
    "sampler = PotentialSampler(gdf.isotropicHernquistdf(hernquist_pot))\n",
    "fitter = PotentialFitter(\"multipole\", package=\"agama\", return_specific_class=True)\n",
    "ms = GaussianMeasurementErrorSampler()\n",
    "\n",
    "pipe = sampler | ms | fitter\n",
    "\n",
    "fit_pot = pipe(n=10000)\n",
    "\n",
    "fit_pot"
   ]
  },
  {
   "cell_type": "code",
   "execution_count": null,
   "metadata": {},
   "outputs": [],
   "source": [
    "ms(sampler.sample(n=3), c_err=0.01)"
   ]
  },
  {
   "cell_type": "code",
   "execution_count": null,
   "metadata": {},
   "outputs": [],
   "source": []
  },
  {
   "cell_type": "code",
   "execution_count": null,
   "metadata": {},
   "outputs": [],
   "source": []
  },
  {
   "cell_type": "code",
   "execution_count": null,
   "metadata": {},
   "outputs": [],
   "source": [
    "from astropy.utils.misc import NumpyRNGContext\n",
    "import numpy as np\n",
    "\n",
    "with NumpyRNGContext(0):\n",
    "    random = np.random.default_rng(0)\n",
    "    print(random.uniform(10))"
   ]
  },
  {
   "cell_type": "markdown",
   "metadata": {},
   "source": [
    "<br><br>\n",
    "\n",
    "- - - \n",
    "\n",
    "<span style='font-size:40px;font-weight:650'>\n",
    "    END\n",
    "</span>"
   ]
  }
 ],
 "metadata": {
  "kernelspec": {
   "display_name": "dev",
   "language": "python",
   "name": "dev"
  },
  "language_info": {
   "codemirror_mode": {
    "name": "ipython",
    "version": 3
   },
   "file_extension": ".py",
   "mimetype": "text/x-python",
   "name": "python",
   "nbconvert_exporter": "python",
   "pygments_lexer": "ipython3",
   "version": "3.8.2"
  },
  "nteract": {
   "version": "0.27.0"
  }
 },
 "nbformat": 4,
 "nbformat_minor": 4
}
