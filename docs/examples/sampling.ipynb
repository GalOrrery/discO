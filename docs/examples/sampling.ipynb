{
 "cells": [
  {
   "cell_type": "markdown",
   "metadata": {},
   "source": [
    "# Title"
   ]
  },
  {
   "cell_type": "code",
   "execution_count": 1,
   "metadata": {
    "collapsed": false,
    "inputHidden": false,
    "jupyter": {
     "outputs_hidden": false
    },
    "outputHidden": false
   },
   "outputs": [],
   "source": [
    "\"\"\"\n",
    "    TITLE   :\n",
    "    PROJECT :\n",
    "\"\"\"\n",
    "\n",
    "__author__ = \"\"\n",
    "__version__ = \"\""
   ]
  },
  {
   "cell_type": "markdown",
   "metadata": {},
   "source": [
    "<span style='font-size:30px;font-weight:650'>\n",
    "    About\n",
    "</span>\n",
    "\n",
    "information about this notebook\n"
   ]
  },
  {
   "cell_type": "markdown",
   "metadata": {},
   "source": [
    "<br><br>\n",
    "\n",
    "- - - \n",
    "\n",
    "## Prepare\n"
   ]
  },
  {
   "cell_type": "markdown",
   "metadata": {
    "inputHidden": false,
    "outputHidden": false
   },
   "source": [
    "### Imports"
   ]
  },
  {
   "cell_type": "code",
   "execution_count": 2,
   "metadata": {},
   "outputs": [],
   "source": [
    "# THIRD PARTY\n",
    "import agama\n",
    "import astropy.coordinates as coord\n",
    "import astropy.units as u\n",
    "import numpy as np\n",
    "from astropy.visualization import quantity_support\n",
    "from galpy import df as gdf\n",
    "from galpy import potential as gpot\n",
    "\n",
    "# PROJECT-SPECIFIC\n",
    "from discO import GaussianMeasurementErrorSampler, PotentialSampler, conf"
   ]
  },
  {
   "cell_type": "code",
   "execution_count": 3,
   "metadata": {},
   "outputs": [],
   "source": [
    "quantity_support();"
   ]
  },
  {
   "cell_type": "markdown",
   "metadata": {
    "inputHidden": false,
    "outputHidden": false
   },
   "source": [
    "### Parameters"
   ]
  },
  {
   "cell_type": "code",
   "execution_count": 4,
   "metadata": {},
   "outputs": [],
   "source": [
    "mass = 1e12 * u.solMass\n",
    "r0 = 10 * u.kpc  # scale factor"
   ]
  },
  {
   "cell_type": "markdown",
   "metadata": {},
   "source": [
    "<br><br>\n",
    "\n",
    "- - - \n",
    "\n",
    "## Code"
   ]
  },
  {
   "cell_type": "code",
   "execution_count": 5,
   "metadata": {},
   "outputs": [],
   "source": [
    "hernquist_pot = gpot.HernquistPotential(amp=mass, a=r0)"
   ]
  },
  {
   "cell_type": "code",
   "execution_count": 6,
   "metadata": {},
   "outputs": [
    {
     "data": {
      "text/plain": [
       "<discO.core.sample.PotentialSampler at 0x7fd197f3d850>"
      ]
     },
     "execution_count": 6,
     "metadata": {},
     "output_type": "execute_result"
    }
   ],
   "source": [
    "sampler = PotentialSampler(gdf.isotropicHernquistdf(hernquist_pot))\n",
    "sampler"
   ]
  },
  {
   "cell_type": "code",
   "execution_count": 7,
   "metadata": {},
   "outputs": [
    {
     "data": {
      "text/plain": [
       "<SkyCoord (Galactocentric: galcen_coord=<ICRS Coordinate: (ra, dec) in deg\n",
       "    (266.4051, -28.936175)>, galcen_distance=8.122 kpc, galcen_v_sun=(12.9, 245.6, 7.78) km / s, z_sun=20.8 pc, roll=0.0 deg): (x, y, z) in kpc\n",
       "    [(27.1172228 ,  -7.89208216,   3.56928375),\n",
       "     (30.0881722 ,  15.71499527, -42.94001442),\n",
       "     ( 7.78532477, -10.31150342, -32.19463138)]\n",
       " (v_x, v_y, v_z) in km / s\n",
       "    [( -23.43881734, -58.22560595, -125.31107118),\n",
       "     (-134.65499462, -70.40401722,   59.07991269),\n",
       "     (  66.70000353,  46.03324887, -142.03489184)]>"
      ]
     },
     "execution_count": 7,
     "metadata": {},
     "output_type": "execute_result"
    }
   ],
   "source": [
    "sampler.sample(n=3, frame=coord.Galactocentric(), random=0)"
   ]
  },
  {
   "cell_type": "code",
   "execution_count": 8,
   "metadata": {},
   "outputs": [
    {
     "data": {
      "text/plain": [
       "<SkyCoord (ICRS): (ra, dec, distance) in (deg, deg, kpc)\n",
       "    [[(272.28627742,   6.44940613, 40.36438214),\n",
       "      (310.99239665, -77.30093387, 53.00882244)],\n",
       "     [(181.29294764,  10.94136389,  8.87318322),\n",
       "      (204.49872529,  42.49133933, 73.3757889 )],\n",
       "     [(274.31849928, -56.40258079,  6.98337595),\n",
       "      (224.68045111, -22.23786515, 16.53963335)]]\n",
       " (pm_ra_cosdec, pm_dec, radial_velocity) in (mas / yr, mas / yr, km / s)\n",
       "    [[(-0.53980426, -1.619599  ,  -1.4762094 ),\n",
       "      (-0.33224473, -0.61148131, 253.15604263)],\n",
       "     [( 0.15103212, -1.31675421, 120.38912295),\n",
       "      (-0.75449832, -0.4065879 , -71.46099481)],\n",
       "     [(-1.9800197 , -7.7779281 , -97.03670157),\n",
       "      (-3.55108334, -5.6022272 ,  68.57960488)]]>"
      ]
     },
     "execution_count": 8,
     "metadata": {},
     "output_type": "execute_result"
    }
   ],
   "source": [
    "samples = sampler.sample(n=3, niter=2, frame=None, random=None)\n",
    "samples"
   ]
  },
  {
   "cell_type": "code",
   "execution_count": 9,
   "metadata": {},
   "outputs": [
    {
     "data": {
      "text/plain": [
       "<SkyCoord (Galactocentric: galcen_coord=<ICRS Coordinate: (ra, dec) in deg\n",
       "    (266.4051, -28.936175)>, galcen_distance=8.122 kpc, galcen_v_sun=(12.9, 245.6, 7.78) km / s, z_sun=20.8 pc, roll=0.0 deg): (x, y, z) in kpc\n",
       "    [[(27.09722772,  -7.99428837,   3.58566112),\n",
       "      (30.13989564,  15.66672266, -42.96944503)],\n",
       "     [( 7.81060648, -10.51244897, -32.21253614),\n",
       "      (27.04664526,  -7.98764378,   3.64108865)],\n",
       "     [(30.28927575,  15.75782264, -42.94008277),\n",
       "      ( 7.90968944, -10.28750205, -32.3145178 )]]>"
      ]
     },
     "execution_count": 9,
     "metadata": {},
     "output_type": "execute_result"
    }
   ],
   "source": [
    "meas = GaussianMeasurementErrorSampler(c_err=0.1)  # Note! not 10%, just 0.1\n",
    "\n",
    "samps = sampler.sample(n=3, niter=2, frame=coord.Galactocentric(), random=0)\n",
    "\n",
    "meas(samps)"
   ]
  },
  {
   "cell_type": "code",
   "execution_count": null,
   "metadata": {},
   "outputs": [],
   "source": []
  },
  {
   "cell_type": "markdown",
   "metadata": {},
   "source": [
    "AGAMA"
   ]
  },
  {
   "cell_type": "code",
   "execution_count": 10,
   "metadata": {},
   "outputs": [],
   "source": [
    "pot_Hern = agama.Potential(\n",
    "    type=\"Spheroid\",\n",
    "    mass=1e12,\n",
    "    scaleRadius=10,\n",
    "    gamma=1,\n",
    "    alpha=1,\n",
    "    beta=4,\n",
    "    cutoffStrength=0,\n",
    ")"
   ]
  },
  {
   "cell_type": "code",
   "execution_count": 11,
   "metadata": {},
   "outputs": [
    {
     "data": {
      "text/plain": [
       "<discO.core.sample.PotentialSampler at 0x7fd19ba72e50>"
      ]
     },
     "execution_count": 11,
     "metadata": {},
     "output_type": "execute_result"
    }
   ],
   "source": [
    "sampler = PotentialSampler(\n",
    "    agama.Potential(\n",
    "        type=\"Spheroid\",\n",
    "        mass=1e12,\n",
    "        scaleRadius=10,\n",
    "        gamma=1,\n",
    "        alpha=1,\n",
    "        beta=4,\n",
    "        cutoffStrength=0,\n",
    "    ),\n",
    ")\n",
    "\n",
    "sampler"
   ]
  },
  {
   "cell_type": "code",
   "execution_count": 12,
   "metadata": {},
   "outputs": [
    {
     "data": {
      "text/plain": [
       "<SkyCoord (ICRS): (ra, dec, distance) in (deg, deg, kpc)\n",
       "    [(269.77768587, -80.39242629,  12.15818053),\n",
       "     (211.53383512,  -3.67881258,   7.37721302),\n",
       "     (135.4959591 , -44.62636438, 156.25820005),\n",
       "     (  3.85684546,  -7.46999137,   5.08874191),\n",
       "     ( 42.11155402, -20.90390085,   7.7856392 ),\n",
       "     (212.56246467, -64.15957604,  16.58761413),\n",
       "     (203.11313493,  -9.16456976,   6.31741618),\n",
       "     ( 61.49015059, -33.66474899,   3.83061213),\n",
       "     (344.11597718, -41.05292432,   4.97326983),\n",
       "     ( 98.63435577,  16.56923216,  32.21408322)]>"
      ]
     },
     "execution_count": 12,
     "metadata": {},
     "output_type": "execute_result"
    }
   ],
   "source": [
    "samples = sampler.sample(n=10)\n",
    "samples"
   ]
  },
  {
   "cell_type": "code",
   "execution_count": 13,
   "metadata": {},
   "outputs": [
    {
     "ename": "AttributeError",
     "evalue": "'PotentialSampler' object has no attribute 'resample'",
     "output_type": "error",
     "traceback": [
      "\u001b[0;31m---------------------------------------------------------------------------\u001b[0m",
      "\u001b[0;31mAttributeError\u001b[0m                            Traceback (most recent call last)",
      "\u001b[0;32m<ipython-input-13-eb3a20f87595>\u001b[0m in \u001b[0;36m<module>\u001b[0;34m\u001b[0m\n\u001b[0;32m----> 1\u001b[0;31m \u001b[0marray\u001b[0m \u001b[0;34m=\u001b[0m \u001b[0msampler\u001b[0m\u001b[0;34m.\u001b[0m\u001b[0mresample\u001b[0m\u001b[0;34m(\u001b[0m\u001b[0mniter\u001b[0m\u001b[0;34m=\u001b[0m\u001b[0;36m20\u001b[0m\u001b[0;34m,\u001b[0m \u001b[0mn\u001b[0m\u001b[0;34m=\u001b[0m\u001b[0;36m3\u001b[0m\u001b[0;34m)\u001b[0m\u001b[0;34m\u001b[0m\u001b[0;34m\u001b[0m\u001b[0m\n\u001b[0m\u001b[1;32m      2\u001b[0m \u001b[0marray\u001b[0m\u001b[0;34m\u001b[0m\u001b[0;34m\u001b[0m\u001b[0m\n",
      "\u001b[0;31mAttributeError\u001b[0m: 'PotentialSampler' object has no attribute 'resample'"
     ]
    }
   ],
   "source": [
    "array = sampler.resample(niter=20, n=3)\n",
    "array"
   ]
  },
  {
   "cell_type": "code",
   "execution_count": null,
   "metadata": {},
   "outputs": [],
   "source": [
    "meas = GaussianMeasurementErrorSampler(c_err=0.1)\n",
    "\n",
    "sample = sampler.sample(n=10)\n",
    "meas(sample)"
   ]
  },
  {
   "cell_type": "markdown",
   "metadata": {},
   "source": [
    "---"
   ]
  },
  {
   "cell_type": "markdown",
   "metadata": {},
   "source": [
    "Now pipe with fitters"
   ]
  },
  {
   "cell_type": "code",
   "execution_count": null,
   "metadata": {},
   "outputs": [],
   "source": [
    "# sampler = PotentialSampler(gdf.isotropicHernquistdf(hernquist_pot))\n",
    "# fitter = PotentialFitter(\n",
    "#     \"multipole\", package=\"agama\", return_specific_class=True\n",
    "# )\n",
    "# ms = GaussianMeasurementErrorSampler()\n",
    "\n",
    "# pipe = sampler | ms | fitter\n",
    "\n",
    "# fit_pot = pipe(n=10000)\n",
    "\n",
    "# fit_pot"
   ]
  },
  {
   "cell_type": "code",
   "execution_count": null,
   "metadata": {},
   "outputs": [],
   "source": [
    "# ms(sampler.sample(n=3), c_err=0.01)"
   ]
  },
  {
   "cell_type": "markdown",
   "metadata": {},
   "source": [
    "<br><br>\n",
    "\n",
    "- - - \n",
    "\n",
    "<span style='font-size:40px;font-weight:650'>\n",
    "    END\n",
    "</span>"
   ]
  }
 ],
 "metadata": {
  "kernelspec": {
   "display_name": "dev",
   "language": "python",
   "name": "dev"
  },
  "language_info": {
   "codemirror_mode": {
    "name": "ipython",
    "version": 3
   },
   "file_extension": ".py",
   "mimetype": "text/x-python",
   "name": "python",
   "nbconvert_exporter": "python",
   "pygments_lexer": "ipython3",
   "version": "3.8.2"
  },
  "nteract": {
   "version": "0.27.0"
  }
 },
 "nbformat": 4,
 "nbformat_minor": 4
}
