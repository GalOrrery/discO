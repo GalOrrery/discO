{
 "cells": [
  {
   "cell_type": "markdown",
   "metadata": {},
   "source": [
    "# Wrapping Potentials"
   ]
  },
  {
   "cell_type": "code",
   "execution_count": 1,
   "metadata": {
    "collapsed": false,
    "inputHidden": false,
    "jupyter": {
     "outputs_hidden": false
    },
    "outputHidden": false
   },
   "outputs": [],
   "source": [
    "\"\"\"\n",
    "    TITLE   : Wrapping Potentials\n",
    "    PROJECT : `discO`\n",
    "\"\"\"\n",
    "\n",
    "__author__ = \"Nathaniel Starkman\"\n",
    "__version__ = \"Feb 10, 2021\""
   ]
  },
  {
   "cell_type": "markdown",
   "metadata": {},
   "source": [
    "<span style='font-size:30px;font-weight:650'>\n",
    "    About\n",
    "</span>\n",
    "\n",
    "Gravitational potentials are managed by 3rd party packages, eg galpy.  \n",
    "We provide thin wrappers to unify the I/O.  \n",
    "\n",
    "Some nice features are:\n",
    "\n",
    "- associating reference frames to potentials,\n",
    "- use of astropy Quantities.\n",
    "- vector fields for the acceleration / specific force."
   ]
  },
  {
   "cell_type": "markdown",
   "metadata": {},
   "source": [
    "<br><br>\n",
    "\n",
    "- - - \n",
    "\n",
    "## Prepare\n"
   ]
  },
  {
   "cell_type": "markdown",
   "metadata": {
    "inputHidden": false,
    "outputHidden": false
   },
   "source": [
    "### Imports"
   ]
  },
  {
   "cell_type": "code",
   "execution_count": 2,
   "metadata": {
    "collapsed": false,
    "inputHidden": false,
    "jupyter": {
     "outputs_hidden": false
    },
    "outputHidden": false
   },
   "outputs": [],
   "source": [
    "# THIRD PARTY\n",
    "import astropy.coordinates as coord\n",
    "import astropy.units as u\n",
    "from galpy.potential import NFWPotential\n",
    "from IPython.display import display\n",
    "\n",
    "# PROJECT-SPECIFIC\n",
    "from discO.core.core import PotentialWrapper\n",
    "from discO.plugin.galpy import GalpyPotentialWrapper"
   ]
  },
  {
   "cell_type": "markdown",
   "metadata": {},
   "source": [
    "### Parameters"
   ]
  },
  {
   "cell_type": "markdown",
   "metadata": {},
   "source": [
    "We define a potential,"
   ]
  },
  {
   "cell_type": "code",
   "execution_count": 3,
   "metadata": {},
   "outputs": [
    {
     "data": {
      "text/plain": [
       "<galpy.potential.TwoPowerSphericalPotential.NFWPotential at 0x7fbbb00ca940>"
      ]
     },
     "execution_count": 3,
     "metadata": {},
     "output_type": "execute_result"
    }
   ],
   "source": [
    "pot = NFWPotential(1e12 * u.solMass)\n",
    "pot"
   ]
  },
  {
   "cell_type": "markdown",
   "metadata": {},
   "source": [
    "and a point at which we will evaluate the potential."
   ]
  },
  {
   "cell_type": "code",
   "execution_count": 4,
   "metadata": {},
   "outputs": [],
   "source": [
    "points_rep = coord.CartesianRepresentation(\n",
    "    x=[0, 1, 2, 3] * u.kpc, y=[4, 5, 6, 7] * u.kpc, z=[8, 9, 10, 11] * u.kpc\n",
    ")\n",
    "\n",
    "points_c = coord.ICRS(points_rep)"
   ]
  },
  {
   "cell_type": "markdown",
   "metadata": {},
   "source": [
    "<br><br>\n",
    "\n",
    "- - - \n",
    "\n",
    "## Wrapping a Potential"
   ]
  },
  {
   "cell_type": "code",
   "execution_count": 5,
   "metadata": {},
   "outputs": [
    {
     "data": {
      "text/plain": [
       "GalpyPotentialWrapper: at <0x7fbbab73d9d0>\n",
       "    potential : galpy.potential.TwoPowerSphericalPotential.NFWPotential object at 0x7fbbb00ca940\n",
       "    frame     : None"
      ]
     },
     "execution_count": 5,
     "metadata": {},
     "output_type": "execute_result"
    }
   ],
   "source": [
    "wpot = PotentialWrapper(\n",
    "    pot,  # the potential\n",
    ")\n",
    "wpot"
   ]
  },
  {
   "cell_type": "markdown",
   "metadata": {},
   "source": [
    "The wrapped potential is accessible via"
   ]
  },
  {
   "cell_type": "code",
   "execution_count": 6,
   "metadata": {},
   "outputs": [
    {
     "data": {
      "text/plain": [
       "<galpy.potential.TwoPowerSphericalPotential.NFWPotential at 0x7fbbb00ca940>"
      ]
     },
     "execution_count": 6,
     "metadata": {},
     "output_type": "execute_result"
    }
   ],
   "source": [
    "wpot.__wrapped__"
   ]
  },
  {
   "cell_type": "markdown",
   "metadata": {},
   "source": [
    "Now we can evaluate the potential in its internal reference frame.  \n",
    "All keyword arguments are passed to the wrapped potential."
   ]
  },
  {
   "cell_type": "code",
   "execution_count": 7,
   "metadata": {},
   "outputs": [
    {
     "data": {
      "text/plain": [
       "<CartesianRepresentation (x, y, z) in kpc\n",
       "    [(0., 4.,  8.), (1., 5.,  9.), (2., 6., 10.), (3., 7., 11.)]>"
      ]
     },
     "metadata": {},
     "output_type": "display_data"
    },
    {
     "data": {
      "text/latex": [
       "$[-360877.68,~-345045.88,~-330002.73,~-315991.64] \\; \\mathrm{\\frac{km^{2}}{s^{2}}}$"
      ],
      "text/plain": [
       "<Quantity [-360877.67677075, -345045.88442112, -330002.72852092,\n",
       "           -315991.6407802 ] km2 / s2>"
      ]
     },
     "metadata": {},
     "output_type": "display_data"
    }
   ],
   "source": [
    "p, v = wpot(points_rep)\n",
    "display(p, v)"
   ]
  },
  {
   "cell_type": "markdown",
   "metadata": {},
   "source": [
    "Note that we had to pass a Representation object, not a CoordinateFrame or SkyCoord.\n",
    "This is becuase the potential has not associated frame, so it does not know how\n",
    "to convert CoordinateFrame or SkyCoord objects to its internal reference frame."
   ]
  },
  {
   "cell_type": "markdown",
   "metadata": {},
   "source": [
    "In most / all packages, Potentials do not have an associated reference frame. This can be good, in that an abstract potential does not really have or need a specific reference frame as there is not a set observer. The potential is just out \"there\".  \n",
    "However, for connecting to a real observer, ie **us**, it is convenient to specify the reference frame of the potential.\n",
    "\n",
    "``PotentialWrapper`` also allows a reference frame to be associated with the wrapped potential."
   ]
  },
  {
   "cell_type": "code",
   "execution_count": 8,
   "metadata": {},
   "outputs": [
    {
     "data": {
      "text/plain": [
       "GalpyPotentialWrapper: at <0x7fbbb04b30a0>\n",
       "    potential : galpy.potential.TwoPowerSphericalPotential.NFWPotential object at 0x7fbbb00ca940\n",
       "    frame     : Galactocentric Frame (galcen_coord=<ICRS Coordinate: (ra, dec) in deg\n",
       "        (266.4051, -28.936175)>, galcen_distance=8.122 kpc, galcen_v_sun=(12.9, 245.6, 7.78) km / s, z_sun=20.8 pc, roll=0.0 deg)"
      ]
     },
     "execution_count": 8,
     "metadata": {},
     "output_type": "execute_result"
    }
   ],
   "source": [
    "wpot = PotentialWrapper(pot, frame=\"galactocentric\")\n",
    "wpot"
   ]
  },
  {
   "cell_type": "markdown",
   "metadata": {},
   "source": [
    "This wrapped potential now has a reference frame, giving the location of the origin and the observer.\n",
    "\n",
    "Now when we evaluate the potential we can give a Representation, to use the internal reference frame,\n",
    "or pass an object in any other reference frame.\n",
    "\n",
    "The evaluated potential returns the points, in the potential's reference frame, and the value at those points."
   ]
  },
  {
   "cell_type": "code",
   "execution_count": 9,
   "metadata": {},
   "outputs": [
    {
     "data": {
      "text/plain": [
       "<Galactocentric Coordinate (galcen_coord=<ICRS Coordinate: (ra, dec) in deg\n",
       "    (266.4051, -28.936175)>, galcen_distance=8.122 kpc, galcen_v_sun=(12.9, 245.6, 7.78) km / s, z_sun=20.8 pc, roll=0.0 deg): (x, y, z) in kpc\n",
       "    [(-15.47906526, 4.19654124, 2.89521132),\n",
       "     (-16.89276836, 4.99280535, 2.28907024),\n",
       "     (-18.30647146, 5.78906946, 1.68292915),\n",
       "     (-19.72017456, 6.58533357, 1.07678807)]>"
      ]
     },
     "metadata": {},
     "output_type": "display_data"
    },
    {
     "data": {
      "text/latex": [
       "$[-293178.44,~-283166.28,~-273689.22,~-264762.03] \\; \\mathrm{\\frac{km^{2}}{s^{2}}}$"
      ],
      "text/plain": [
       "<Quantity [-293178.43903212, -283166.27712042, -273689.21695083,\n",
       "           -264762.03262673] km2 / s2>"
      ]
     },
     "metadata": {},
     "output_type": "display_data"
    }
   ],
   "source": [
    "p, v = wpot(points_c)\n",
    "display(p, v)"
   ]
  },
  {
   "cell_type": "code",
   "execution_count": 10,
   "metadata": {},
   "outputs": [
    {
     "data": {
      "text/plain": [
       "<Galactocentric Coordinate (galcen_coord=<ICRS Coordinate: (ra, dec) in deg\n",
       "    (266.4051, -28.936175)>, galcen_distance=8.122 kpc, galcen_v_sun=(12.9, 245.6, 7.78) km / s, z_sun=20.8 pc, roll=0.0 deg): (x, y, z) in kpc\n",
       "    [(0., 4.,  8.), (1., 5.,  9.), (2., 6., 10.), (3., 7., 11.)]>"
      ]
     },
     "metadata": {},
     "output_type": "display_data"
    },
    {
     "data": {
      "text/latex": [
       "$[-360877.68,~-345045.88,~-330002.73,~-315991.64] \\; \\mathrm{\\frac{km^{2}}{s^{2}}}$"
      ],
      "text/plain": [
       "<Quantity [-360877.67677075, -345045.88442112, -330002.72852092,\n",
       "           -315991.6407802 ] km2 / s2>"
      ]
     },
     "metadata": {},
     "output_type": "display_data"
    }
   ],
   "source": [
    "p, v = wpot(points_rep)\n",
    "display(p, v)"
   ]
  },
  {
   "cell_type": "markdown",
   "metadata": {},
   "source": [
    "In addition to the specific potential (``__call__()`` or ``potential()``) we can also evaluate the acceleration field -- (``acceleration()`` or ``specific_force()``)."
   ]
  },
  {
   "cell_type": "code",
   "execution_count": 11,
   "metadata": {},
   "outputs": [
    {
     "data": {
      "text/plain": [
       "<CylindricalVectorField (rho, phi, z) in (kpc, rad, kpc) | (vf_rho, vf_phi, vf_z) in km / s2\n",
       "    [((16.03784336, 2.87684582, 2.89521132), (-2.27326506e-13, 0., -4.10378290e-14)),\n",
       "     ((17.61515621, 2.85421537, 2.28907024), (-2.10278571e-13, 0., -2.73254698e-14)),\n",
       "     ((19.2000058 , 2.83531256, 1.68292915), (-1.94294284e-13, 0., -1.70303862e-14)),\n",
       "     ((20.79066865, 2.81929718, 1.07678807), (-1.79588000e-13, 0., -9.30120236e-15))]>"
      ]
     },
     "metadata": {},
     "output_type": "display_data"
    }
   ],
   "source": [
    "accl = wpot.acceleration(points_c)\n",
    "\n",
    "display(accl)"
   ]
  },
  {
   "cell_type": "markdown",
   "metadata": {},
   "source": [
    "Although not yet implemented in the vector field, the reference frame information is preserved."
   ]
  },
  {
   "cell_type": "code",
   "execution_count": 12,
   "metadata": {},
   "outputs": [
    {
     "data": {
      "text/plain": [
       "<Galactocentric Frame (galcen_coord=<ICRS Coordinate: (ra, dec) in deg\n",
       "    (266.4051, -28.936175)>, galcen_distance=8.122 kpc, galcen_v_sun=(12.9, 245.6, 7.78) km / s, z_sun=20.8 pc, roll=0.0 deg)>"
      ]
     },
     "execution_count": 12,
     "metadata": {},
     "output_type": "execute_result"
    }
   ],
   "source": [
    "accl.frame"
   ]
  },
  {
   "cell_type": "markdown",
   "metadata": {},
   "source": [
    "All the methods, including ``potential()``, take the representation type as an argument."
   ]
  },
  {
   "cell_type": "code",
   "execution_count": 13,
   "metadata": {},
   "outputs": [
    {
     "data": {
      "text/plain": [
       "<Galactocentric Coordinate (galcen_coord=<ICRS Coordinate: (ra, dec) in deg\n",
       "    (266.4051, -28.936175)>, galcen_distance=8.122 kpc, galcen_v_sun=(12.9, 245.6, 7.78) km / s, z_sun=20.8 pc, roll=0.0 deg): (x, y, z) in kpc\n",
       "    [(-15.47906526, 4.19654124, 2.89521132),\n",
       "     (-16.89276836, 4.99280535, 2.28907024),\n",
       "     (-18.30647146, 5.78906946, 1.68292915),\n",
       "     (-19.72017456, 6.58533357, 1.07678807)]>"
      ]
     },
     "metadata": {},
     "output_type": "display_data"
    },
    {
     "data": {
      "text/latex": [
       "$[-293178.44,~-283166.28,~-273689.22,~-264762.03] \\; \\mathrm{\\frac{km^{2}}{s^{2}}}$"
      ],
      "text/plain": [
       "<Quantity [-293178.43903212, -283166.27712042, -273689.21695083,\n",
       "           -264762.03262673] km2 / s2>"
      ]
     },
     "metadata": {},
     "output_type": "display_data"
    },
    {
     "data": {
      "text/plain": [
       "<CartesianVectorField (x, y, z) in kpc | (vf_x, vf_y, vf_z) in km / s2\n",
       "    [((-15.47906526, 4.19654124, 2.89521132), (2.19406172e-13, -5.94833753e-14, -4.10378290e-14)),\n",
       "     ((-16.89276836, 4.99280535, 2.28907024), (2.01655163e-13, -5.96009461e-14, -2.73254698e-14)),\n",
       "     ((-18.30647146, 5.78906946, 1.68292915), (1.85252171e-13, -5.85824357e-14, -1.70303862e-14)),\n",
       "     ((-19.72017456, 6.58533357, 1.07678807), (1.70341165e-13, -5.68835427e-14, -9.30120236e-15))]>"
      ]
     },
     "metadata": {},
     "output_type": "display_data"
    }
   ],
   "source": [
    "p, v = wpot(points_c, representation_type=coord.CylindricalRepresentation)\n",
    "display(p, v)\n",
    "\n",
    "accl = wpot.acceleration(points_c, representation_type=\"cartesian\")\n",
    "display(accl)"
   ]
  },
  {
   "cell_type": "markdown",
   "metadata": {},
   "source": [
    "<br><br>\n",
    "\n",
    "- - - \n",
    "\n",
    "## As Static Methods"
   ]
  },
  {
   "cell_type": "markdown",
   "metadata": {},
   "source": [
    "The above example showed how a potential can be wrapped.  \n",
    "In addition, all of ``PotentialWrapper`` (and its subclassses) is accessible via static methods."
   ]
  },
  {
   "cell_type": "code",
   "execution_count": 14,
   "metadata": {},
   "outputs": [
    {
     "name": "stdout",
     "output_type": "stream",
     "text": [
      "....\n"
     ]
    }
   ],
   "source": [
    "try:\n",
    "    PotentialWrapper.potential(pot, points_rep)\n",
    "except NotImplementedError:\n",
    "    print(\"....\")"
   ]
  },
  {
   "cell_type": "markdown",
   "metadata": {},
   "source": [
    "However, ``PotentialWrapper`` is actually the base class for wrapping potentials from any package.\n",
    "To use a method as a static method we must use the appropriate subclass for the potential.\n",
    "\n",
    "There are 2 ways to get the appropriate wrapper class.\n",
    "\n",
    "1. import : ``from discO.plugin.galpy import GalpyPotentialWrapper``\n",
    "2. by ``getitem`` on ``PotentialWrapper`` : ``PotentialWrapper['package']``"
   ]
  },
  {
   "cell_type": "code",
   "execution_count": 15,
   "metadata": {},
   "outputs": [
    {
     "data": {
      "text/plain": [
       "discO.plugin.galpy.GalpyPotentialWrapper"
      ]
     },
     "execution_count": 15,
     "metadata": {},
     "output_type": "execute_result"
    }
   ],
   "source": [
    "PotentialWrapper[\"galpy\"]"
   ]
  },
  {
   "cell_type": "code",
   "execution_count": 16,
   "metadata": {},
   "outputs": [
    {
     "data": {
      "text/plain": [
       "<SphericalRepresentation (lon, lat, distance) in (rad, rad, kpc)\n",
       "    [(1.57079633, 1.10714872,  8.94427191),\n",
       "     (1.37340077, 1.05532979, 10.34408043),\n",
       "     (1.24904577, 1.00685369, 11.83215957),\n",
       "     (1.16590454, 0.96522779, 13.37908816)]>"
      ]
     },
     "metadata": {},
     "output_type": "display_data"
    },
    {
     "data": {
      "text/latex": [
       "$[-360877.68,~-345045.88,~-330002.73,~-315991.64] \\; \\mathrm{\\frac{km^{2}}{s^{2}}}$"
      ],
      "text/plain": [
       "<Quantity [-360877.67677075, -345045.88442112, -330002.72852092,\n",
       "           -315991.6407802 ] km2 / s2>"
      ]
     },
     "metadata": {},
     "output_type": "display_data"
    }
   ],
   "source": [
    "p, v = GalpyPotentialWrapper.potential(pot, points_rep, representation_type=\"spherical\")\n",
    "display(p, v)"
   ]
  },
  {
   "cell_type": "markdown",
   "metadata": {},
   "source": [
    "To use a CoordinateFrame or SkyCoord, the frame of the potential must be specified."
   ]
  },
  {
   "cell_type": "code",
   "execution_count": 17,
   "metadata": {},
   "outputs": [
    {
     "data": {
      "text/plain": [
       "<Galactocentric Coordinate (galcen_coord=<ICRS Coordinate: (ra, dec) in deg\n",
       "    (266.4051, -28.936175)>, galcen_distance=8.122 kpc, galcen_v_sun=(12.9, 245.6, 7.78) km / s, z_sun=20.8 pc, roll=0.0 deg): (x, y, z) in kpc\n",
       "    [(-15.47906526, 4.19654124, 2.89521132),\n",
       "     (-16.89276836, 4.99280535, 2.28907024),\n",
       "     (-18.30647146, 5.78906946, 1.68292915),\n",
       "     (-19.72017456, 6.58533357, 1.07678807)]>"
      ]
     },
     "metadata": {},
     "output_type": "display_data"
    },
    {
     "data": {
      "text/latex": [
       "$[-293178.44,~-283166.28,~-273689.22,~-264762.03] \\; \\mathrm{\\frac{km^{2}}{s^{2}}}$"
      ],
      "text/plain": [
       "<Quantity [-293178.43903212, -283166.27712042, -273689.21695083,\n",
       "           -264762.03262673] km2 / s2>"
      ]
     },
     "metadata": {},
     "output_type": "display_data"
    }
   ],
   "source": [
    "p, v = GalpyPotentialWrapper.potential(pot, points_c, frame=\"galactocentric\")\n",
    "display(p, v)"
   ]
  },
  {
   "cell_type": "markdown",
   "metadata": {},
   "source": [
    "And similarly for the acceleration field."
   ]
  },
  {
   "cell_type": "code",
   "execution_count": 18,
   "metadata": {},
   "outputs": [
    {
     "data": {
      "text/plain": [
       "<CartesianVectorField (x, y, z) in kpc | (vf_x, vf_y, vf_z) in km / s2\n",
       "    [((-15.47906526, 4.19654124, 2.89521132), (2.19406172e-13, -5.94833753e-14, -4.10378290e-14)),\n",
       "     ((-16.89276836, 4.99280535, 2.28907024), (2.01655163e-13, -5.96009461e-14, -2.73254698e-14)),\n",
       "     ((-18.30647146, 5.78906946, 1.68292915), (1.85252171e-13, -5.85824357e-14, -1.70303862e-14)),\n",
       "     ((-19.72017456, 6.58533357, 1.07678807), (1.70341165e-13, -5.68835427e-14, -9.30120236e-15))]>"
      ]
     },
     "execution_count": 18,
     "metadata": {},
     "output_type": "execute_result"
    }
   ],
   "source": [
    "accl = GalpyPotentialWrapper.specific_force(\n",
    "    pot, points_c, frame=\"galactocentric\", representation_type=\"cartesian\"\n",
    ")\n",
    "accl"
   ]
  },
  {
   "cell_type": "markdown",
   "metadata": {},
   "source": [
    "<br><br>\n",
    "\n",
    "- - - \n",
    "\n",
    "<span style='font-size:40px;font-weight:650'>\n",
    "    END\n",
    "</span>"
   ]
  }
 ],
 "metadata": {
  "kernel_info": {
   "name": "utilipy"
  },
  "kernelspec": {
   "display_name": "dev",
   "language": "python",
   "name": "dev"
  },
  "language_info": {
   "codemirror_mode": {
    "name": "ipython",
    "version": 3
   },
   "file_extension": ".py",
   "mimetype": "text/x-python",
   "name": "python",
   "nbconvert_exporter": "python",
   "pygments_lexer": "ipython3",
   "version": "3.8.2"
  },
  "nteract": {
   "version": "0.25.1"
  }
 },
 "nbformat": 4,
 "nbformat_minor": 4
}
