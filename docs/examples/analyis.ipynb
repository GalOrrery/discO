{
 "cells": [
  {
   "cell_type": "markdown",
   "metadata": {},
   "source": [
    "# Analysis Work Area"
   ]
  },
  {
   "cell_type": "code",
   "execution_count": null,
   "metadata": {
    "collapsed": false,
    "inputHidden": false,
    "jupyter": {
     "outputs_hidden": false
    },
    "outputHidden": false
   },
   "outputs": [],
   "source": [
    "\"\"\"\n",
    "    TITLE   : Analysis Work Area\n",
    "    PROJECT : discO\n",
    "\"\"\"\n",
    "\n",
    "__author__ = \"Nathaniel Starkman\"\n",
    "__version__ = \"\""
   ]
  },
  {
   "cell_type": "markdown",
   "metadata": {},
   "source": [
    "<span style='font-size:30px;font-weight:650'>\n",
    "    About\n",
    "</span>\n",
    "\n",
    "information about this notebook\n"
   ]
  },
  {
   "cell_type": "markdown",
   "metadata": {},
   "source": [
    "<br><br>\n",
    "\n",
    "- - - \n",
    "\n",
    "## Prepare\n"
   ]
  },
  {
   "cell_type": "markdown",
   "metadata": {
    "inputHidden": false,
    "outputHidden": false
   },
   "source": [
    "### Imports"
   ]
  },
  {
   "cell_type": "code",
   "execution_count": 2,
   "metadata": {},
   "outputs": [],
   "source": [
    "# THIRD PARTY\n",
    "import agama\n",
    "import astropy.coordinates as coord\n",
    "import astropy.units as u\n",
    "import numpy as np\n",
    "from astropy.visualization import quantity_support\n",
    "from galpy import df as gdf\n",
    "from galpy import potential as gpot\n",
    "\n",
    "# PROJECT-SPECIFIC\n",
    "from discO import (\n",
    "    MeasurementErrorSampler,\n",
    "    GaussianMeasurementErrorSampler,\n",
    "    PotentialFitter,\n",
    "    PotentialSampler,\n",
    "    conf,\n",
    ")\n",
    "from discO.plugin.agama.fitter import (\n",
    "    AGAMAMultipolePotentialFitter,\n",
    "    AGAMAPotentialFitter,\n",
    ")\n",
    "from discO.core.pipeline import Pipeline\n",
    "from discO.core.residual import GridResidual"
   ]
  },
  {
   "cell_type": "code",
   "execution_count": 3,
   "metadata": {},
   "outputs": [],
   "source": [
    "quantity_support();"
   ]
  },
  {
   "cell_type": "markdown",
   "metadata": {
    "inputHidden": false,
    "outputHidden": false
   },
   "source": [
    "### Parameters"
   ]
  },
  {
   "cell_type": "code",
   "execution_count": 4,
   "metadata": {},
   "outputs": [],
   "source": [
    "mass = 1e12 * u.solMass\n",
    "r0 = 10 * u.kpc  # scale factor"
   ]
  },
  {
   "cell_type": "markdown",
   "metadata": {},
   "source": [
    "<br><br>\n",
    "\n",
    "- - - \n",
    "\n",
    "## Code"
   ]
  },
  {
   "cell_type": "code",
   "execution_count": 5,
   "metadata": {},
   "outputs": [
    {
     "data": {
      "text/plain": [
       "'Length unit: 1 Kpc, velocity unit: 1 km/s, time unit: 977.793 Myr, mass unit: 1 Msun, gravitational constant: 4.30092e-06'"
      ]
     },
     "execution_count": 5,
     "metadata": {},
     "output_type": "execute_result"
    }
   ],
   "source": [
    "agama.setUnits(mass=1, length=1, velocity=1)"
   ]
  },
  {
   "cell_type": "code",
   "execution_count": 6,
   "metadata": {},
   "outputs": [],
   "source": [
    "hernquist_pot = gpot.HernquistPotential(amp=2 * mass, a=r0)\n",
    "sampler = PotentialSampler(gdf.isotropicHernquistdf(hernquist_pot))\n",
    "measurer = GaussianMeasurementErrorSampler(c_err=10*u.percent)  # 10% error\n",
    "fitter = PotentialFitter(\n",
    "    None, key=\"agama\", pot_type=\"multipole\",\n",
    "    symmetry=\"s\",\n",
    "    gridsizeR=50, rmax=50,  # kpc\n",
    "    lmax=10\n",
    ")\n",
    "\n",
    "_r = np.linspace(0, 10, num=50)\n",
    "_lon = np.linspace(0, 360, num=50)\n",
    "_lat = np.linspace(-90, 90, num=50)\n",
    "r, lon, lat = np.meshgrid(_r, _lon, _lat)\n",
    "points = coord.SphericalRepresentation(lon * u.deg, lat * u.deg, r * u.kpc)\n",
    "points[:1] \n",
    "\n",
    "residualer = GridResidual(points, original_pot=hernquist_pot)"
   ]
  },
  {
   "cell_type": "code",
   "execution_count": 7,
   "metadata": {},
   "outputs": [
    {
     "data": {
      "text/plain": [
       "Pipeline:\n",
       "    sampler: <discO.core.sample.PotentialSampler object at 0x7ff8d859f9a0>\n",
       "    measurer: <discO.core.measurement.GaussianMeasurementErrorSampler object at 0x7ff8d859f910>\n",
       "    fitter: <discO.core.fitter.PotentialFitter object at 0x7ff8d859fb50>\n",
       "    residual: <discO.core.residual.GridResidual object at 0x7ff8d859fc10>\n",
       "    statistic: None"
      ]
     },
     "execution_count": 7,
     "metadata": {},
     "output_type": "execute_result"
    }
   ],
   "source": [
    "pipe = Pipeline(sampler=sampler,\n",
    "                measurer=measurer,\n",
    "                fitter=fitter,\n",
    "                residualer=residualer)\n",
    "pipe"
   ]
  },
  {
   "cell_type": "code",
   "execution_count": 8,
   "metadata": {},
   "outputs": [
    {
     "data": {
      "text/plain": [
       "<CartesianVectorField (x, y, z) in kpc | (vf_x, vf_y, vf_z) in km / s2\n",
       "    [((0.00000000e+00, 0., -0.        ), ( 0.00000000e+00,  0.,  0.00000000e+00)),\n",
       "     ((0.00000000e+00, 0., -0.        ), ( 0.00000000e+00,  0.,  0.00000000e+00)),\n",
       "     ((0.00000000e+00, 0., -0.        ), ( 0.00000000e+00,  0.,  0.00000000e+00)),\n",
       "     ...,\n",
       "     ((1.27877162e+00, 0.,  9.91790014), (-9.09508046e-14, -0., -7.05396481e-13)),\n",
       "     ((6.40702200e-01, 0.,  9.97945393), (-4.55690288e-14, -0., -7.09774406e-13)),\n",
       "     ((6.12323400e-16, 0., 10.        ), (-4.35506271e-29, -0., -7.11235716e-13))]>"
      ]
     },
     "execution_count": 8,
     "metadata": {},
     "output_type": "execute_result"
    }
   ],
   "source": [
    "resid = pipe(n=10000, frame=coord.Galactocentric(), random=0,\n",
    "             representation_type=coord.CartesianRepresentation)\n",
    "resid"
   ]
  },
  {
   "cell_type": "code",
   "execution_count": 9,
   "metadata": {},
   "outputs": [
    {
     "data": {
      "text/plain": [
       "<SphericalVectorField (lon, lat, distance) in (rad, rad, kpc) | (vf_lon, vf_lat, vf_distance) in km / s2\n",
       "    [((0., 0.        ,  0.), (0., 0.00000000e+00,  0.00000000e+00)),\n",
       "     ((0., 0.        ,  0.), (0., 0.00000000e+00,  0.00000000e+00)),\n",
       "     ((0., 0.        ,  0.), (0., 0.00000000e+00,  0.00000000e+00)), ...,\n",
       "     ((0., 1.44256806, 10.), (0., 1.26217745e-29, -7.11235716e-13)),\n",
       "     ((0., 1.50668219, 10.), (0., 0.00000000e+00, -7.11235716e-13)),\n",
       "     ((0., 1.57079633, 10.), (0., 0.00000000e+00, -7.11235716e-13))]>"
      ]
     },
     "execution_count": 9,
     "metadata": {},
     "output_type": "execute_result"
    }
   ],
   "source": [
    "resid.represent_as(coord.SphericalRepresentation)"
   ]
  },
  {
   "cell_type": "code",
   "execution_count": 10,
   "metadata": {},
   "outputs": [],
   "source": [
    "# from discO.plugin.galpy import GalpyPotentialWrapper\n",
    "# from discO.plugin.agama import AGAMAPotentialWrapper\n",
    "# true = GalpyPotentialWrapper.specific_force(hernquist_pot, points, representation_type=coord.CartesianRepresentation)\n",
    "# fit = AGAMAPotentialWrapper(pipe._fit_result).specific_force(points, representation_type=coord.CartesianRepresentation)\n",
    "# true\n",
    "# (fit.vf_x.flatten() / true.vf_x.flatten() - 1)[50:]"
   ]
  },
  {
   "cell_type": "markdown",
   "metadata": {},
   "source": [
    "- - -"
   ]
  },
  {
   "cell_type": "code",
   "execution_count": 11,
   "metadata": {},
   "outputs": [],
   "source": [
    "# from mpl_toolkits.mplot3d import axes3d\n",
    "# import matplotlib as mpl\n",
    "# import matplotlib.pyplot as plt\n",
    "# import matplotlib.cm as cm\n",
    "# import numpy as np\n",
    "\n",
    "# fig = plt.figure()\n",
    "# ax = fig.gca(projection='3d')\n",
    "\n",
    "# rar = np.abs(resid.represent_as(coord.SphericalRepresentation).vf_distance.flatten().value)\n",
    "# norm = mpl.colors.Normalize(vmin=min(rar), vmax=max(rar), clip=True)\n",
    "# mapper = cm.ScalarMappable(norm=norm, cmap=cm.inferno_r)\n",
    "\n",
    "# x, y, z = resid.xyz\n",
    "\n",
    "# norm = np.abs(resid.represent_as(coord.SphericalRepresentation).vf_distance).max()\n",
    "# uvw = resid.vf_xyz.value * 2 / norm\n",
    "\n",
    "# qv = ax.quiver(\n",
    "#     x, y, z, *uvw,\n",
    "#     color=mapper.to_rgba(rar, alpha=0.1),\n",
    "#     length=0.1\n",
    "# )\n",
    "# ax.set_xlim(-8, 8)\n",
    "# ax.set_ylim(-8, 8)\n",
    "# ax.set_zlim(-8, 8)\n",
    "\n",
    "# plt.colorbar(qv)\n",
    "# plt.show();"
   ]
  },
  {
   "cell_type": "code",
   "execution_count": 12,
   "metadata": {},
   "outputs": [],
   "source": [
    "def nanrms(x):\n",
    "    \"\"\"Root Mean Square.\"\"\"\n",
    "    return np.sqrt(np.nansum(x**2) / len(x))\n"
   ]
  },
  {
   "cell_type": "code",
   "execution_count": 13,
   "metadata": {},
   "outputs": [],
   "source": [
    "# %%time\n",
    "\n",
    "# stats = []\n",
    "# N = 1000\n",
    "# failed = 0\n",
    "\n",
    "# for _ in range(N):\n",
    "#     try:\n",
    "#         resid = pipe(n=10000, frame=coord.Galactocentric(), random=None)\n",
    "#         rms = np.sqrt(np.sum(np.square(u.Quantity([nanrms(resid.vf_x), nanrms(resid.vf_y), nanrms(resid.vf_z)]))))\n",
    "#     except Exception:\n",
    "#         failed += 1\n",
    "\n",
    "#     else:\n",
    "#         stats.append(rms)\n",
    "\n",
    "# # /for\n",
    "\n",
    "# stats = u.Quantity(stats)\n",
    "# asystematic = np.abs(resid.represent_as(coord.SphericalRepresentation).vf_distance.min())\n",
    "\n",
    "# print(f\"sample size = {N - failed}\")\n",
    "# print(stats[:5])\n",
    "# print(asystematic)"
   ]
  },
  {
   "cell_type": "code",
   "execution_count": 14,
   "metadata": {},
   "outputs": [],
   "source": [
    "# fig, ax = plt.subplots(1,1,figsize=(8,6))\n",
    "# ax.hist(stats, density=False, edgecolor='k');"
   ]
  },
  {
   "cell_type": "code",
   "execution_count": 15,
   "metadata": {},
   "outputs": [],
   "source": [
    "# import lmfit as lf\n",
    "\n",
    "# entries, bin_edges, patches = plt.hist(stats / min(stats) - 1, bins=50, density=True, label='Data');\n",
    "# plt.close();\n",
    "\n",
    "# bin_middles = 0.5 * (bin_edges[1:] + bin_edges[:-1])\n",
    "\n",
    "# mod = lf.models.SkewedGaussianModel()\n",
    "\n",
    "# pars = mod.guess(entries, x=bin_middles)\n",
    "# out = mod.fit(entries, pars, x=bin_middles)"
   ]
  },
  {
   "cell_type": "code",
   "execution_count": 16,
   "metadata": {},
   "outputs": [],
   "source": [
    "# out.params"
   ]
  },
  {
   "cell_type": "code",
   "execution_count": 17,
   "metadata": {},
   "outputs": [],
   "source": [
    "# y = mod.eval(out.params, x=bin_middles)\n",
    "# plt.hist(stats / min(stats) - 1, bins=50, density=True, edgecolor='k');\n",
    "# plt.scatter(bin_middles, y, c=\"k\", zorder=20)"
   ]
  },
  {
   "cell_type": "code",
   "execution_count": null,
   "metadata": {},
   "outputs": [],
   "source": []
  },
  {
   "cell_type": "code",
   "execution_count": null,
   "metadata": {},
   "outputs": [],
   "source": []
  },
  {
   "cell_type": "code",
   "execution_count": null,
   "metadata": {},
   "outputs": [],
   "source": []
  },
  {
   "cell_type": "code",
   "execution_count": null,
   "metadata": {},
   "outputs": [],
   "source": []
  },
  {
   "cell_type": "markdown",
   "metadata": {},
   "source": [
    "- - - \n",
    "\n",
    "### Statistics"
   ]
  },
  {
   "cell_type": "code",
   "execution_count": 18,
   "metadata": {},
   "outputs": [
    {
     "data": {
      "text/plain": [
       "(<Quantity 4.11104688e-11 km / s2>,\n",
       " <Quantity 4.02963195e-11 km / s2>,\n",
       " <Quantity 5.87292411e-11 km / s2>)"
      ]
     },
     "execution_count": 18,
     "metadata": {},
     "output_type": "execute_result"
    }
   ],
   "source": [
    "def nanrms(x):\n",
    "    \"\"\"Root Mean Square.\"\"\"\n",
    "    return np.sqrt(np.nansum(x**2) / len(x))\n",
    "\n",
    "nanrms(resid.vf_x), nanrms(resid.vf_y), nanrms(resid.vf_z)"
   ]
  },
  {
   "cell_type": "code",
   "execution_count": 19,
   "metadata": {},
   "outputs": [
    {
     "data": {
      "text/plain": [
       "(<Quantity 3.28948467e-12 km / s2>,\n",
       " <Quantity 3.27617845e-12 km / s2>,\n",
       " <Quantity 3.27954754e-12 km / s2>)"
      ]
     },
     "execution_count": 19,
     "metadata": {},
     "output_type": "execute_result"
    }
   ],
   "source": [
    "def maxdev(x):\n",
    "    \"\"\"Maximum deviation.\"\"\"\n",
    "    return np.nanmax(abs(x - np.nanmean(x)))\n",
    "\n",
    "maxdev(resid.vf_x), maxdev(resid.vf_y), maxdev(resid.vf_z)"
   ]
  },
  {
   "cell_type": "code",
   "execution_count": 20,
   "metadata": {},
   "outputs": [
    {
     "data": {
      "text/plain": [
       "(<Quantity 3.28948467e-12 km / s2>,\n",
       " <Quantity 3.27617845e-12 km / s2>,\n",
       " <Quantity 3.27954754e-12 km / s2>)"
      ]
     },
     "execution_count": 20,
     "metadata": {},
     "output_type": "execute_result"
    }
   ],
   "source": [
    "def maxdev(x):\n",
    "    \"\"\"Maximum deviation.\"\"\"\n",
    "    return np.nanmax(abs(x - np.nanmean(x)))\n",
    "\n",
    "maxdev(resid.vf_x), maxdev(resid.vf_y), maxdev(resid.vf_z)"
   ]
  },
  {
   "cell_type": "markdown",
   "metadata": {},
   "source": [
    "- - - \n",
    "\n",
    "### Realistic Measurement Error"
   ]
  },
  {
   "cell_type": "markdown",
   "metadata": {},
   "source": [
    "generate samples in a Galactocentric reference frame\n",
    "\n",
    "the measurer resampler thingy "
   ]
  },
  {
   "cell_type": "code",
   "execution_count": 21,
   "metadata": {},
   "outputs": [],
   "source": [
    "def make_icrs_radial_error(r0, eps_l: float, upper: float, scale_factor=1):\n",
    "    \n",
    "    if eps_l <= 0 or 1 < eps_l:\n",
    "        raise ValueError\n",
    "        \n",
    "    if upper <= 0 or 1 < upper:\n",
    "        raise ValueError\n",
    "\n",
    "    def icrs_radial_error(c):\n",
    "        \"\"\"Linearly-scaled errors in a ICRS frame.\n",
    "\n",
    "        Transforms the samples to ICRS, assigns a distance-dependent error in the radial coordinate\n",
    "\n",
    "        [(1 - eps_u) (d / r0) + eps_l] / (1 + d / r0)\n",
    "\n",
    "        Parameters\n",
    "        ----------\n",
    "        c : SkyCoord\n",
    "            in Galactocentric coordinates\n",
    "\n",
    "        \"\"\"\n",
    "        cc = c.transform_to(coord.ICRS())\n",
    "        \n",
    "        d = cc.distance\n",
    "\n",
    "        # reshape \"c\" to Nx3 array\n",
    "        nd = cc.shape[0]  # the number of samples\n",
    "        vals = np.abs(cc.data._values.view(dtype=np.float64).reshape(nd, -1))\n",
    "\n",
    "        # get scaled error\n",
    "        d_pos = vals\n",
    "        d_pos[:, 0] = 0 * u.deg\n",
    "        d_pos[:, 1] = 0 * u.deg\n",
    "        d_pos[:, 2] = scale_factor * (upper * (d / r0) + eps_l) / (1 + d / r0) * d.to_value()\n",
    "        return d_pos\n",
    "\n",
    "    return icrs_radial_error\n",
    "\n",
    "# /def"
   ]
  },
  {
   "cell_type": "code",
   "execution_count": 22,
   "metadata": {},
   "outputs": [],
   "source": [
    "errfunc = make_icrs_radial_error(r0, eps_l=0.01, upper=0.5)"
   ]
  },
  {
   "cell_type": "code",
   "execution_count": 23,
   "metadata": {},
   "outputs": [
    {
     "data": {
      "text/plain": [
       "array([[ 0.        ,  0.        , 11.21194068],\n",
       "       [ 0.        ,  0.        , 22.8722281 ],\n",
       "       [ 0.        ,  0.        , 15.45331704],\n",
       "       ...,\n",
       "       [ 0.        ,  0.        , 32.21608433],\n",
       "       [ 0.        ,  0.        ,  2.23546624],\n",
       "       [ 0.        ,  0.        , 44.36111191]])"
      ]
     },
     "execution_count": 23,
     "metadata": {},
     "output_type": "execute_result"
    }
   ],
   "source": [
    "errfunc(pipe._sample_result)"
   ]
  },
  {
   "cell_type": "code",
   "execution_count": 24,
   "metadata": {},
   "outputs": [],
   "source": [
    "class ICRSGaussianIshMeasurementErrorSampler(MeasurementErrorSampler):\n",
    "    \"\"\"Draw a realization given Gaussian measurement errors.\n",
    "\n",
    "    Parameters\n",
    "    ----------\n",
    "    c_err : float or callable or None (optional)\n",
    "        Callable with single mandatory positional argument -- coordinates\n",
    "        (\"c\") -- that returns the absolute error.\n",
    "\n",
    "    \"\"\"\n",
    "\n",
    "    def __call__(\n",
    "        self,\n",
    "        c,\n",
    "        c_err = None,\n",
    "        *,\n",
    "        random = None,\n",
    "    ):\n",
    "        \"\"\"Draw a realization given the errors.\n",
    "\n",
    "        .. todo::\n",
    "\n",
    "            - the velocities\n",
    "            - confirm that units work nicely\n",
    "            - figure out phase wrapping when draws over a wrap\n",
    "            - make calling the function easier when inputting coordinates\n",
    "            - make work on a shaped SkyCoord\n",
    "\n",
    "        Parameters\n",
    "        ----------\n",
    "        c : :class:`~astropy.coordinates.SkyCoord` instance\n",
    "            The coordinates at which to resample.\n",
    "        c_err : SkyCoord or None (optional)\n",
    "            The scale of the Gaussian errors.\n",
    "\n",
    "        Returns\n",
    "        -------\n",
    "        new_c : :class:`~astropy.coordinates.SkyCoord`\n",
    "            The resampled points.\n",
    "            Has the same frame, representation_type, and shape and framas `c`.\n",
    "\n",
    "        Other Parameters\n",
    "        ----------------\n",
    "        random : `~numpy.random.Generator` or int or None (optional, keyword-only)\n",
    "            The random number generator or generator seed.\n",
    "        representation_type : |Representation| or None (optional, keyword-only)\n",
    "            The representation type in which to calculate the errors.\n",
    "\n",
    "        \"\"\"\n",
    "        if not isinstance(c.frame, coord.Galactocentric):\n",
    "            raise TypeError\n",
    "\n",
    "        # ----------------\n",
    "        # Setup\n",
    "\n",
    "        # see 'default_rng' docs for details\n",
    "        random = np.random.default_rng(random)\n",
    "        \n",
    "        cc = c.transform_to(coord.ICRS())\n",
    "\n",
    "        # get \"cc\" into the correct representation type\n",
    "        representation_type = coord.SphericalRepresentation\n",
    "        rep = cc.data.represent_as(representation_type)\n",
    "\n",
    "        # for re-building\n",
    "        units = rep._units\n",
    "        nd = rep.shape[0]  # the number of samples\n",
    "\n",
    "        # ----------------\n",
    "        # Resample\n",
    "\n",
    "        # loc & error scale\n",
    "        pos = rep._values.view(dtype=np.float64).reshape(nd, -1)  # shape=Nx3\n",
    "        d_pos = self._parse_c_err(c_err, cc, nd)\n",
    "\n",
    "        # draw realization\n",
    "        # this will have no units. We will need to add those\n",
    "        new_pos = random.normal(loc=pos, scale=d_pos, size=pos.shape)\n",
    "        new_pos[:, 2] = np.abs(new_pos[:, 2])\n",
    "\n",
    "        # deal with wrapping!\n",
    "        # TODO!\n",
    "\n",
    "        # re-build representation\n",
    "        new_rep = rep.__class__(\n",
    "            **{n: p * unit for p, (n, unit) in zip(new_pos.T, units.items())}\n",
    "        )\n",
    "\n",
    "        # make SkyCoord from new realization, preserving shape\n",
    "        new_c = coord.SkyCoord(coord.ICRS(new_rep).transform_to(c.frame).reshape(c.shape))\n",
    "\n",
    "        # ----------------\n",
    "        # Cleanup\n",
    "\n",
    "        # need to transfer metadata.\n",
    "        # TODO! more generally, probably need different method for new_c\n",
    "        new_c.potential = getattr(c, \"potential\", None)\n",
    "        new_c.mass = getattr(c, \"mass\", None)\n",
    "\n",
    "        return new_c\n",
    "\n",
    "    # /def\n",
    "\n",
    "\n",
    "# /class"
   ]
  },
  {
   "cell_type": "code",
   "execution_count": 25,
   "metadata": {},
   "outputs": [],
   "source": [
    "icrsmeasurer = ICRSGaussianIshMeasurementErrorSampler(c_err=errfunc)\n",
    "output = icrsmeasurer(pipe._sample_result, random=0)"
   ]
  },
  {
   "cell_type": "code",
   "execution_count": 26,
   "metadata": {},
   "outputs": [
    {
     "data": {
      "text/plain": [
       "array([[ 0.00000000e+00,  0.00000000e+00, -7.18038077e+00],\n",
       "       [ 0.00000000e+00, -1.11022302e-16, -8.27048457e+00],\n",
       "       [ 0.00000000e+00,  2.22044605e-16,  1.08750437e+01],\n",
       "       ...,\n",
       "       [ 0.00000000e+00,  2.22044605e-16, -6.29849917e+00],\n",
       "       [ 8.88178420e-16,  5.55111512e-17, -5.43744039e-01],\n",
       "       [ 8.88178420e-16,  0.00000000e+00,  2.36756123e+01]])"
      ]
     },
     "execution_count": 26,
     "metadata": {},
     "output_type": "execute_result"
    }
   ],
   "source": [
    "nd = len(output)\n",
    "pipe._sample_result.icrs.data._values.view(dtype=np.float64).reshape(nd, -1) - output.transform_to(coord.ICRS()).data._values.view(dtype=np.float64).reshape(nd, -1)"
   ]
  },
  {
   "cell_type": "code",
   "execution_count": 28,
   "metadata": {},
   "outputs": [],
   "source": [
    "%%time\n",
    "\n",
    "hernquist_pot = gpot.HernquistPotential(amp=2 * mass, a=r0)\n",
    "sampler = PotentialSampler(gdf.isotropicHernquistdf(hernquist_pot))\n",
    "fitter = PotentialFitter(None, key=\"agama\", pot_type=\"multipole\", gridsizeR=10, lmax=10)\n",
    "pipe = Pipeline(sampler=sampler, measurer=icrsmeasurer, fitter=fitter)\n",
    "\n",
    "N = 1000\n",
    "failed = 0\n",
    "coeff_array = np.zeros((N,4))\n",
    "\n",
    "for i in range(N):\n",
    "    pot_fit = pipe(n=10000, frame=coord.Galactocentric())\n",
    "\n",
    "    pot_fit.export('coeffs.txt')\n",
    "    coeff = np.loadtxt('coeffs.txt', skiprows=6, usecols=(0,1,7,21), max_rows=50)\n",
    "    coeff_array[i,:] = coeff[4,:]"
   ]
  },
  {
   "cell_type": "code",
   "execution_count": 30,
   "metadata": {},
   "outputs": [
    {
     "data": {
      "image/png": "[encoded data removed]",
      "text/plain": [
       "<Figure size 547.2x547.2 with 9 Axes>"
      ]
     },
     "metadata": {
      "needs_background": "light"
     },
     "output_type": "display_data"
    }
   ],
   "source": [
    "import corner\n",
    "\n",
    "labels = ['$\\Phi_{0,0}$','$\\Phi_{2,0}$','$\\Phi_{4,0}$']\n",
    "fig= corner.corner(coeff_array[:,1:], labels=labels, show_titles=True, quantiles=[0.16, 0.5, 0.84],\n",
    "                       title_kwargs={\"fontsize\": 12}, title_fmt='.2e',\n",
    "                      label_kwargs={\"fontsize\":12}, hist2d_kwargs={\"fontsize\":8})\n",
    "#fig.suptitle('Coefficient Correlations at R = 13 kpc', fontsize=12)\n",
    "\n",
    "fig.savefig('corner_test_icrs.png')"
   ]
  },
  {
   "cell_type": "code",
   "execution_count": 36,
   "metadata": {},
   "outputs": [
    {
     "name": "stdout",
     "output_type": "stream",
     "text": [
      "[1, 2]:\n",
      "[[ 1.         -0.38186149]\n",
      " [-0.38186149  1.        ]]\n",
      "\n",
      "[1, 3]:\n",
      "[[1.         0.09249058]\n",
      " [0.09249058 1.        ]]\n",
      "\n",
      "[2, 3]:\n",
      "[[ 1.         -0.12128024]\n",
      " [-0.12128024  1.        ]]\n",
      "\n"
     ]
    }
   ],
   "source": [
    "print(\"[1, 2]:\", np.corrcoef(coeff_array[:,1], coeff_array[:,2]), sep=\"\\n\", end=\"\\n\\n\")\n",
    "print(\"[1, 3]:\", np.corrcoef(coeff_array[:,1], coeff_array[:,3]), sep=\"\\n\", end=\"\\n\\n\")\n",
    "print(\"[2, 3]:\", np.corrcoef(coeff_array[:,2], coeff_array[:,3]), sep=\"\\n\", end=\"\\n\\n\")"
   ]
  },
  {
   "cell_type": "markdown",
   "metadata": {},
   "source": [
    "<br><br>\n",
    "\n",
    "- - - \n",
    "\n",
    "<span style='font-size:40px;font-weight:650'>\n",
    "    END\n",
    "</span>"
   ]
  }
 ],
 "metadata": {
  "kernelspec": {
   "display_name": "dev",
   "language": "python",
   "name": "dev"
  },
  "language_info": {
   "codemirror_mode": {
    "name": "ipython",
    "version": 3
   },
   "file_extension": ".py",
   "mimetype": "text/x-python",
   "name": "python",
   "nbconvert_exporter": "python",
   "pygments_lexer": "ipython3",
   "version": "3.8.2"
  },
  "nteract": {
   "version": "0.27.0"
  }
 },
 "nbformat": 4,
 "nbformat_minor": 4
}
